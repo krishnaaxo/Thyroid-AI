{
  "nbformat": 4,
  "nbformat_minor": 0,
  "metadata": {
    "colab": {
      "name": "ThyroidFinalFinal.ipynb",
      "provenance": [],
      "include_colab_link": true
    },
    "kernelspec": {
      "name": "python3",
      "display_name": "Python 3"
    },
    "accelerator": "GPU"
  },
  "cells": [
    {
      "cell_type": "markdown",
      "metadata": {
        "id": "view-in-github",
        "colab_type": "text"
      },
      "source": [
        "<a href=\"https://colab.research.google.com/github/krishnaaxo/Thyroid-AI/blob/main/ThyroidFinalFinal.ipynb\" target=\"_parent\"><img src=\"https://colab.research.google.com/assets/colab-badge.svg\" alt=\"Open In Colab\"/></a>"
      ]
    },
    {
      "cell_type": "code",
      "metadata": {
        "id": "hRRMD6uBc6VZ"
      },
      "source": [
        "import numpy as np\r\n",
        "import pandas as pd\r\n",
        "import scipy as sc\r\n",
        "import seaborn as sns\r\n",
        "import warnings\r\n",
        "import matplotlib.pyplot as plt\r\n",
        "from scipy import stats\r\n",
        "%matplotlib inline\r\n",
        "\r\n",
        "from sklearn import metrics\r\n",
        "from sklearn import preprocessing\r\n",
        "\r\n",
        "\r\n",
        "warnings.filterwarnings('ignore')"
      ],
      "execution_count": 1002,
      "outputs": []
    },
    {
      "cell_type": "code",
      "metadata": {
        "colab": {
          "base_uri": "https://localhost:8080/",
          "height": 214
        },
        "id": "8fZYsF7Gdx9_",
        "outputId": "f7684f4b-beac-40ff-b1c2-7fdca20d1146"
      },
      "source": [
        "dataset = pd.read_csv('full_dataset.csv')\r\n",
        "dataset.head()"
      ],
      "execution_count": 1003,
      "outputs": [
        {
          "output_type": "execute_result",
          "data": {
            "text/html": [
              "<div>\n",
              "<style scoped>\n",
              "    .dataframe tbody tr th:only-of-type {\n",
              "        vertical-align: middle;\n",
              "    }\n",
              "\n",
              "    .dataframe tbody tr th {\n",
              "        vertical-align: top;\n",
              "    }\n",
              "\n",
              "    .dataframe thead th {\n",
              "        text-align: right;\n",
              "    }\n",
              "</style>\n",
              "<table border=\"1\" class=\"dataframe\">\n",
              "  <thead>\n",
              "    <tr style=\"text-align: right;\">\n",
              "      <th></th>\n",
              "      <th>on_thyroxine</th>\n",
              "      <th>query_on_thyroxine</th>\n",
              "      <th>on_antithyroid_medication</th>\n",
              "      <th>thyroid_surgery</th>\n",
              "      <th>query_hypothyroid</th>\n",
              "      <th>query_hyperthyroid</th>\n",
              "      <th>pregnant</th>\n",
              "      <th>sick</th>\n",
              "      <th>tumor</th>\n",
              "      <th>lithium</th>\n",
              "      <th>goitre</th>\n",
              "      <th>TSH_measured</th>\n",
              "      <th>T3_measured</th>\n",
              "      <th>TT4_measured</th>\n",
              "      <th>T4U_measured</th>\n",
              "      <th>FTI_measured</th>\n",
              "      <th>age</th>\n",
              "      <th>sex</th>\n",
              "      <th>TSH</th>\n",
              "      <th>T3</th>\n",
              "      <th>TT4</th>\n",
              "      <th>T4U</th>\n",
              "      <th>FTI</th>\n",
              "      <th>classes</th>\n",
              "    </tr>\n",
              "  </thead>\n",
              "  <tbody>\n",
              "    <tr>\n",
              "      <th>0</th>\n",
              "      <td>0</td>\n",
              "      <td>0</td>\n",
              "      <td>0</td>\n",
              "      <td>0</td>\n",
              "      <td>0</td>\n",
              "      <td>0</td>\n",
              "      <td>0</td>\n",
              "      <td>0</td>\n",
              "      <td>0</td>\n",
              "      <td>0</td>\n",
              "      <td>0</td>\n",
              "      <td>1</td>\n",
              "      <td>1</td>\n",
              "      <td>1</td>\n",
              "      <td>1</td>\n",
              "      <td>1</td>\n",
              "      <td>80</td>\n",
              "      <td>1</td>\n",
              "      <td>1.4</td>\n",
              "      <td>0.8</td>\n",
              "      <td>105.0</td>\n",
              "      <td>0.88</td>\n",
              "      <td>120.0</td>\n",
              "      <td>1</td>\n",
              "    </tr>\n",
              "    <tr>\n",
              "      <th>1</th>\n",
              "      <td>0</td>\n",
              "      <td>0</td>\n",
              "      <td>0</td>\n",
              "      <td>0</td>\n",
              "      <td>0</td>\n",
              "      <td>0</td>\n",
              "      <td>0</td>\n",
              "      <td>0</td>\n",
              "      <td>0</td>\n",
              "      <td>0</td>\n",
              "      <td>0</td>\n",
              "      <td>1</td>\n",
              "      <td>1</td>\n",
              "      <td>1</td>\n",
              "      <td>1</td>\n",
              "      <td>1</td>\n",
              "      <td>74</td>\n",
              "      <td>0</td>\n",
              "      <td>0.0</td>\n",
              "      <td>0.7</td>\n",
              "      <td>98.0</td>\n",
              "      <td>0.81</td>\n",
              "      <td>121.0</td>\n",
              "      <td>1</td>\n",
              "    </tr>\n",
              "    <tr>\n",
              "      <th>2</th>\n",
              "      <td>0</td>\n",
              "      <td>0</td>\n",
              "      <td>0</td>\n",
              "      <td>0</td>\n",
              "      <td>0</td>\n",
              "      <td>0</td>\n",
              "      <td>0</td>\n",
              "      <td>0</td>\n",
              "      <td>0</td>\n",
              "      <td>0</td>\n",
              "      <td>0</td>\n",
              "      <td>1</td>\n",
              "      <td>1</td>\n",
              "      <td>1</td>\n",
              "      <td>1</td>\n",
              "      <td>1</td>\n",
              "      <td>32</td>\n",
              "      <td>0</td>\n",
              "      <td>1.4</td>\n",
              "      <td>1.1</td>\n",
              "      <td>121.0</td>\n",
              "      <td>1.11</td>\n",
              "      <td>109.0</td>\n",
              "      <td>1</td>\n",
              "    </tr>\n",
              "    <tr>\n",
              "      <th>3</th>\n",
              "      <td>0</td>\n",
              "      <td>0</td>\n",
              "      <td>0</td>\n",
              "      <td>0</td>\n",
              "      <td>0</td>\n",
              "      <td>0</td>\n",
              "      <td>0</td>\n",
              "      <td>0</td>\n",
              "      <td>0</td>\n",
              "      <td>0</td>\n",
              "      <td>0</td>\n",
              "      <td>1</td>\n",
              "      <td>1</td>\n",
              "      <td>1</td>\n",
              "      <td>1</td>\n",
              "      <td>1</td>\n",
              "      <td>42</td>\n",
              "      <td>0</td>\n",
              "      <td>2.3</td>\n",
              "      <td>1.1</td>\n",
              "      <td>93.0</td>\n",
              "      <td>0.73</td>\n",
              "      <td>127.0</td>\n",
              "      <td>1</td>\n",
              "    </tr>\n",
              "    <tr>\n",
              "      <th>4</th>\n",
              "      <td>0</td>\n",
              "      <td>0</td>\n",
              "      <td>0</td>\n",
              "      <td>0</td>\n",
              "      <td>0</td>\n",
              "      <td>0</td>\n",
              "      <td>0</td>\n",
              "      <td>0</td>\n",
              "      <td>0</td>\n",
              "      <td>0</td>\n",
              "      <td>0</td>\n",
              "      <td>1</td>\n",
              "      <td>1</td>\n",
              "      <td>1</td>\n",
              "      <td>1</td>\n",
              "      <td>1</td>\n",
              "      <td>89</td>\n",
              "      <td>1</td>\n",
              "      <td>0.8</td>\n",
              "      <td>0.8</td>\n",
              "      <td>111.0</td>\n",
              "      <td>0.68</td>\n",
              "      <td>165.0</td>\n",
              "      <td>1</td>\n",
              "    </tr>\n",
              "  </tbody>\n",
              "</table>\n",
              "</div>"
            ],
            "text/plain": [
              "   on_thyroxine  query_on_thyroxine  ...    FTI  classes\n",
              "0             0                   0  ...  120.0        1\n",
              "1             0                   0  ...  121.0        1\n",
              "2             0                   0  ...  109.0        1\n",
              "3             0                   0  ...  127.0        1\n",
              "4             0                   0  ...  165.0        1\n",
              "\n",
              "[5 rows x 24 columns]"
            ]
          },
          "metadata": {
            "tags": []
          },
          "execution_count": 1003
        }
      ]
    },
    {
      "cell_type": "code",
      "metadata": {
        "id": "MMij-_pfdyFE"
      },
      "source": [
        "\r\n",
        "X = dataset.iloc[:, 0:-1].values\r\n",
        "y = dataset.iloc[:, -1].values"
      ],
      "execution_count": 1004,
      "outputs": []
    },
    {
      "cell_type": "code",
      "metadata": {
        "colab": {
          "base_uri": "https://localhost:8080/"
        },
        "id": "A2LBPUVudyIy",
        "outputId": "5cccac26-508d-4c16-9b60-01464fb5e512"
      },
      "source": [
        "dataset.info()"
      ],
      "execution_count": 1005,
      "outputs": [
        {
          "output_type": "stream",
          "text": [
            "<class 'pandas.core.frame.DataFrame'>\n",
            "RangeIndex: 3152 entries, 0 to 3151\n",
            "Data columns (total 24 columns):\n",
            " #   Column                     Non-Null Count  Dtype  \n",
            "---  ------                     --------------  -----  \n",
            " 0   on_thyroxine               3152 non-null   int64  \n",
            " 1   query_on_thyroxine         3152 non-null   int64  \n",
            " 2   on_antithyroid_medication  3152 non-null   int64  \n",
            " 3   thyroid_surgery            3152 non-null   int64  \n",
            " 4   query_hypothyroid          3152 non-null   int64  \n",
            " 5   query_hyperthyroid         3152 non-null   int64  \n",
            " 6   pregnant                   3152 non-null   int64  \n",
            " 7   sick                       3152 non-null   int64  \n",
            " 8   tumor                      3152 non-null   int64  \n",
            " 9   lithium                    3152 non-null   int64  \n",
            " 10  goitre                     3152 non-null   int64  \n",
            " 11  TSH_measured               3152 non-null   int64  \n",
            " 12  T3_measured                3152 non-null   int64  \n",
            " 13  TT4_measured               3152 non-null   int64  \n",
            " 14  T4U_measured               3152 non-null   int64  \n",
            " 15  FTI_measured               3152 non-null   int64  \n",
            " 16  age                        3152 non-null   int64  \n",
            " 17  sex                        3152 non-null   int64  \n",
            " 18  TSH                        3152 non-null   float64\n",
            " 19  T3                         3152 non-null   float64\n",
            " 20  TT4                        3152 non-null   float64\n",
            " 21  T4U                        3152 non-null   float64\n",
            " 22  FTI                        3152 non-null   float64\n",
            " 23  classes                    3152 non-null   int64  \n",
            "dtypes: float64(5), int64(19)\n",
            "memory usage: 591.1 KB\n"
          ],
          "name": "stdout"
        }
      ]
    },
    {
      "cell_type": "code",
      "metadata": {
        "colab": {
          "base_uri": "https://localhost:8080/",
          "height": 302
        },
        "id": "oBi9gu5pdyMS",
        "outputId": "f0a79ba3-6c6b-42ab-d61a-f9fd6cd412f2"
      },
      "source": [
        "dataset.describe()"
      ],
      "execution_count": 1006,
      "outputs": [
        {
          "output_type": "execute_result",
          "data": {
            "text/html": [
              "<div>\n",
              "<style scoped>\n",
              "    .dataframe tbody tr th:only-of-type {\n",
              "        vertical-align: middle;\n",
              "    }\n",
              "\n",
              "    .dataframe tbody tr th {\n",
              "        vertical-align: top;\n",
              "    }\n",
              "\n",
              "    .dataframe thead th {\n",
              "        text-align: right;\n",
              "    }\n",
              "</style>\n",
              "<table border=\"1\" class=\"dataframe\">\n",
              "  <thead>\n",
              "    <tr style=\"text-align: right;\">\n",
              "      <th></th>\n",
              "      <th>on_thyroxine</th>\n",
              "      <th>query_on_thyroxine</th>\n",
              "      <th>on_antithyroid_medication</th>\n",
              "      <th>thyroid_surgery</th>\n",
              "      <th>query_hypothyroid</th>\n",
              "      <th>query_hyperthyroid</th>\n",
              "      <th>pregnant</th>\n",
              "      <th>sick</th>\n",
              "      <th>tumor</th>\n",
              "      <th>lithium</th>\n",
              "      <th>goitre</th>\n",
              "      <th>TSH_measured</th>\n",
              "      <th>T3_measured</th>\n",
              "      <th>TT4_measured</th>\n",
              "      <th>T4U_measured</th>\n",
              "      <th>FTI_measured</th>\n",
              "      <th>age</th>\n",
              "      <th>sex</th>\n",
              "      <th>TSH</th>\n",
              "      <th>T3</th>\n",
              "      <th>TT4</th>\n",
              "      <th>T4U</th>\n",
              "      <th>FTI</th>\n",
              "      <th>classes</th>\n",
              "    </tr>\n",
              "  </thead>\n",
              "  <tbody>\n",
              "    <tr>\n",
              "      <th>count</th>\n",
              "      <td>3152.000000</td>\n",
              "      <td>3152.000000</td>\n",
              "      <td>3152.000000</td>\n",
              "      <td>3152.000000</td>\n",
              "      <td>3152.000000</td>\n",
              "      <td>3152.000000</td>\n",
              "      <td>3152.000000</td>\n",
              "      <td>3152.000000</td>\n",
              "      <td>3152.000000</td>\n",
              "      <td>3152.000000</td>\n",
              "      <td>3152.000000</td>\n",
              "      <td>3152.000000</td>\n",
              "      <td>3152.000000</td>\n",
              "      <td>3152.000000</td>\n",
              "      <td>3152.000000</td>\n",
              "      <td>3152.000000</td>\n",
              "      <td>3152.000000</td>\n",
              "      <td>3152.000000</td>\n",
              "      <td>3152.000000</td>\n",
              "      <td>3152.000000</td>\n",
              "      <td>3152.000000</td>\n",
              "      <td>3152.000000</td>\n",
              "      <td>3152.000000</td>\n",
              "      <td>3152.000000</td>\n",
              "    </tr>\n",
              "    <tr>\n",
              "      <th>mean</th>\n",
              "      <td>0.145305</td>\n",
              "      <td>0.017449</td>\n",
              "      <td>0.013325</td>\n",
              "      <td>0.032995</td>\n",
              "      <td>0.075825</td>\n",
              "      <td>0.077094</td>\n",
              "      <td>0.019987</td>\n",
              "      <td>0.030774</td>\n",
              "      <td>0.012690</td>\n",
              "      <td>0.000635</td>\n",
              "      <td>0.031409</td>\n",
              "      <td>0.852157</td>\n",
              "      <td>0.779822</td>\n",
              "      <td>0.921003</td>\n",
              "      <td>0.921320</td>\n",
              "      <td>0.921637</td>\n",
              "      <td>51.359772</td>\n",
              "      <td>0.295051</td>\n",
              "      <td>5.689591</td>\n",
              "      <td>1.992291</td>\n",
              "      <td>109.016783</td>\n",
              "      <td>0.983284</td>\n",
              "      <td>114.809613</td>\n",
              "      <td>0.091371</td>\n",
              "    </tr>\n",
              "    <tr>\n",
              "      <th>std</th>\n",
              "      <td>0.352464</td>\n",
              "      <td>0.130959</td>\n",
              "      <td>0.114680</td>\n",
              "      <td>0.178652</td>\n",
              "      <td>0.264760</td>\n",
              "      <td>0.266783</td>\n",
              "      <td>0.139979</td>\n",
              "      <td>0.172733</td>\n",
              "      <td>0.111952</td>\n",
              "      <td>0.025186</td>\n",
              "      <td>0.174447</td>\n",
              "      <td>0.355000</td>\n",
              "      <td>0.414432</td>\n",
              "      <td>0.269778</td>\n",
              "      <td>0.269282</td>\n",
              "      <td>0.268785</td>\n",
              "      <td>19.226176</td>\n",
              "      <td>0.456138</td>\n",
              "      <td>22.953469</td>\n",
              "      <td>1.036009</td>\n",
              "      <td>45.085350</td>\n",
              "      <td>0.234424</td>\n",
              "      <td>59.028114</td>\n",
              "      <td>0.288181</td>\n",
              "    </tr>\n",
              "    <tr>\n",
              "      <th>min</th>\n",
              "      <td>0.000000</td>\n",
              "      <td>0.000000</td>\n",
              "      <td>0.000000</td>\n",
              "      <td>0.000000</td>\n",
              "      <td>0.000000</td>\n",
              "      <td>0.000000</td>\n",
              "      <td>0.000000</td>\n",
              "      <td>0.000000</td>\n",
              "      <td>0.000000</td>\n",
              "      <td>0.000000</td>\n",
              "      <td>0.000000</td>\n",
              "      <td>0.000000</td>\n",
              "      <td>0.000000</td>\n",
              "      <td>0.000000</td>\n",
              "      <td>0.000000</td>\n",
              "      <td>0.000000</td>\n",
              "      <td>1.000000</td>\n",
              "      <td>0.000000</td>\n",
              "      <td>0.000000</td>\n",
              "      <td>0.000000</td>\n",
              "      <td>2.000000</td>\n",
              "      <td>0.000000</td>\n",
              "      <td>0.000000</td>\n",
              "      <td>0.000000</td>\n",
              "    </tr>\n",
              "    <tr>\n",
              "      <th>25%</th>\n",
              "      <td>0.000000</td>\n",
              "      <td>0.000000</td>\n",
              "      <td>0.000000</td>\n",
              "      <td>0.000000</td>\n",
              "      <td>0.000000</td>\n",
              "      <td>0.000000</td>\n",
              "      <td>0.000000</td>\n",
              "      <td>0.000000</td>\n",
              "      <td>0.000000</td>\n",
              "      <td>0.000000</td>\n",
              "      <td>0.000000</td>\n",
              "      <td>1.000000</td>\n",
              "      <td>1.000000</td>\n",
              "      <td>1.000000</td>\n",
              "      <td>1.000000</td>\n",
              "      <td>1.000000</td>\n",
              "      <td>35.000000</td>\n",
              "      <td>0.000000</td>\n",
              "      <td>0.000000</td>\n",
              "      <td>1.400000</td>\n",
              "      <td>83.000000</td>\n",
              "      <td>0.850000</td>\n",
              "      <td>90.000000</td>\n",
              "      <td>0.000000</td>\n",
              "    </tr>\n",
              "    <tr>\n",
              "      <th>50%</th>\n",
              "      <td>0.000000</td>\n",
              "      <td>0.000000</td>\n",
              "      <td>0.000000</td>\n",
              "      <td>0.000000</td>\n",
              "      <td>0.000000</td>\n",
              "      <td>0.000000</td>\n",
              "      <td>0.000000</td>\n",
              "      <td>0.000000</td>\n",
              "      <td>0.000000</td>\n",
              "      <td>0.000000</td>\n",
              "      <td>0.000000</td>\n",
              "      <td>1.000000</td>\n",
              "      <td>1.000000</td>\n",
              "      <td>1.000000</td>\n",
              "      <td>1.000000</td>\n",
              "      <td>1.000000</td>\n",
              "      <td>54.000000</td>\n",
              "      <td>0.000000</td>\n",
              "      <td>0.700000</td>\n",
              "      <td>1.900000</td>\n",
              "      <td>104.000000</td>\n",
              "      <td>0.960000</td>\n",
              "      <td>107.000000</td>\n",
              "      <td>0.000000</td>\n",
              "    </tr>\n",
              "    <tr>\n",
              "      <th>75%</th>\n",
              "      <td>0.000000</td>\n",
              "      <td>0.000000</td>\n",
              "      <td>0.000000</td>\n",
              "      <td>0.000000</td>\n",
              "      <td>0.000000</td>\n",
              "      <td>0.000000</td>\n",
              "      <td>0.000000</td>\n",
              "      <td>0.000000</td>\n",
              "      <td>0.000000</td>\n",
              "      <td>0.000000</td>\n",
              "      <td>0.000000</td>\n",
              "      <td>1.000000</td>\n",
              "      <td>1.000000</td>\n",
              "      <td>1.000000</td>\n",
              "      <td>1.000000</td>\n",
              "      <td>1.000000</td>\n",
              "      <td>67.000000</td>\n",
              "      <td>1.000000</td>\n",
              "      <td>2.200000</td>\n",
              "      <td>2.400000</td>\n",
              "      <td>128.000000</td>\n",
              "      <td>1.070000</td>\n",
              "      <td>128.000000</td>\n",
              "      <td>0.000000</td>\n",
              "    </tr>\n",
              "    <tr>\n",
              "      <th>max</th>\n",
              "      <td>1.000000</td>\n",
              "      <td>1.000000</td>\n",
              "      <td>1.000000</td>\n",
              "      <td>1.000000</td>\n",
              "      <td>1.000000</td>\n",
              "      <td>1.000000</td>\n",
              "      <td>1.000000</td>\n",
              "      <td>1.000000</td>\n",
              "      <td>1.000000</td>\n",
              "      <td>1.000000</td>\n",
              "      <td>1.000000</td>\n",
              "      <td>1.000000</td>\n",
              "      <td>1.000000</td>\n",
              "      <td>1.000000</td>\n",
              "      <td>1.000000</td>\n",
              "      <td>1.000000</td>\n",
              "      <td>98.000000</td>\n",
              "      <td>1.000000</td>\n",
              "      <td>530.000000</td>\n",
              "      <td>10.200000</td>\n",
              "      <td>450.000000</td>\n",
              "      <td>2.210000</td>\n",
              "      <td>881.000000</td>\n",
              "      <td>1.000000</td>\n",
              "    </tr>\n",
              "  </tbody>\n",
              "</table>\n",
              "</div>"
            ],
            "text/plain": [
              "       on_thyroxine  query_on_thyroxine  ...          FTI      classes\n",
              "count   3152.000000         3152.000000  ...  3152.000000  3152.000000\n",
              "mean       0.145305            0.017449  ...   114.809613     0.091371\n",
              "std        0.352464            0.130959  ...    59.028114     0.288181\n",
              "min        0.000000            0.000000  ...     0.000000     0.000000\n",
              "25%        0.000000            0.000000  ...    90.000000     0.000000\n",
              "50%        0.000000            0.000000  ...   107.000000     0.000000\n",
              "75%        0.000000            0.000000  ...   128.000000     0.000000\n",
              "max        1.000000            1.000000  ...   881.000000     1.000000\n",
              "\n",
              "[8 rows x 24 columns]"
            ]
          },
          "metadata": {
            "tags": []
          },
          "execution_count": 1006
        }
      ]
    },
    {
      "cell_type": "code",
      "metadata": {
        "colab": {
          "base_uri": "https://localhost:8080/"
        },
        "id": "r43dq7dZepii",
        "outputId": "8ae62829-fdbb-4415-ddde-09af1c15d0d0"
      },
      "source": [
        "dataset.isnull().sum()"
      ],
      "execution_count": 1007,
      "outputs": [
        {
          "output_type": "execute_result",
          "data": {
            "text/plain": [
              "on_thyroxine                 0\n",
              "query_on_thyroxine           0\n",
              "on_antithyroid_medication    0\n",
              "thyroid_surgery              0\n",
              "query_hypothyroid            0\n",
              "query_hyperthyroid           0\n",
              "pregnant                     0\n",
              "sick                         0\n",
              "tumor                        0\n",
              "lithium                      0\n",
              "goitre                       0\n",
              "TSH_measured                 0\n",
              "T3_measured                  0\n",
              "TT4_measured                 0\n",
              "T4U_measured                 0\n",
              "FTI_measured                 0\n",
              "age                          0\n",
              "sex                          0\n",
              "TSH                          0\n",
              "T3                           0\n",
              "TT4                          0\n",
              "T4U                          0\n",
              "FTI                          0\n",
              "classes                      0\n",
              "dtype: int64"
            ]
          },
          "metadata": {
            "tags": []
          },
          "execution_count": 1007
        }
      ]
    },
    {
      "cell_type": "code",
      "metadata": {
        "colab": {
          "base_uri": "https://localhost:8080/",
          "height": 501
        },
        "id": "W5LZYGxtigjz",
        "outputId": "53b5cec3-5442-49df-bb93-82e88cfae9d5"
      },
      "source": [
        "plt.figure(figsize=(12, 6))\r\n",
        "sns.heatmap(dataset.isnull())\r\n",
        "plt.show()"
      ],
      "execution_count": 1008,
      "outputs": [
        {
          "output_type": "display_data",
          "data": {
            "image/png": "[encoded data removed]",
            "text/plain": [
              "<Figure size 864x432 with 2 Axes>"
            ]
          },
          "metadata": {
            "tags": [],
            "needs_background": "light"
          }
        }
      ]
    },
    {
      "cell_type": "code",
      "metadata": {
        "colab": {
          "base_uri": "https://localhost:8080/"
        },
        "id": "8No4aOgujCm3",
        "outputId": "bfbe7406-d78f-4777-c3b5-960e484d6595"
      },
      "source": [
        "from sklearn.model_selection import train_test_split\r\n",
        "X_train, X_test, y_train, y_test = train_test_split(X, y, test_size = 0.25, random_state = 0)\r\n",
        "print(X_train)\r\n",
        "print(y_train)\r\n",
        "print(X_test)\r\n",
        "print(y_test)"
      ],
      "execution_count": 1009,
      "outputs": [
        {
          "output_type": "stream",
          "text": [
            "[[  0.     0.     0.   ... 109.     1.62  67.  ]\n",
            " [  0.     0.     0.   ... 120.     0.78 154.  ]\n",
            " [  0.     0.     0.   ...  86.     0.81 106.  ]\n",
            " ...\n",
            " [  0.     0.     0.   ...  86.     1.05  82.  ]\n",
            " [  0.     0.     0.   ...  78.     0.86  91.  ]\n",
            " [  0.     0.     0.   ...  47.     0.97  48.  ]]\n",
            "[0 0 0 ... 0 0 0]\n",
            "[[  1.     0.     0.   ...  83.     0.89  93.  ]\n",
            " [  0.     0.     0.   ... 104.     0.99 105.  ]\n",
            " [  0.     0.     0.   ... 126.     1.29  98.  ]\n",
            " ...\n",
            " [  0.     0.     0.   ... 125.     1.14 110.  ]\n",
            " [  0.     0.     0.   ... 107.     0.66 162.  ]\n",
            " [  0.     0.     1.   ... 106.     1.07 107.  ]]\n",
            "[0 0 0 0 0 0 0 0 0 0 0 0 0 0 0 1 0 0 0 0 0 0 0 0 0 0 0 0 1 0 0 0 0 0 0 0 1\n",
            " 0 0 0 0 0 0 0 0 0 0 0 0 0 0 0 0 0 0 0 0 0 0 0 0 0 0 0 0 0 1 1 0 0 0 0 0 0\n",
            " 0 0 0 0 0 0 0 0 0 0 0 0 0 0 0 1 0 0 0 0 0 0 0 0 0 0 0 0 0 0 0 0 0 0 0 0 0\n",
            " 0 0 0 0 0 0 0 0 0 0 0 0 0 0 0 0 0 0 0 0 0 1 0 0 0 0 0 0 0 0 0 0 0 0 0 1 0\n",
            " 0 0 0 0 0 1 0 0 0 0 1 0 0 0 0 0 0 0 0 0 0 0 0 0 0 0 0 0 0 0 0 0 0 0 0 0 0\n",
            " 0 0 0 0 0 0 0 0 0 0 0 0 0 0 0 0 0 0 0 0 0 0 1 0 0 0 1 0 1 1 0 0 0 0 0 0 0\n",
            " 0 0 0 0 0 0 0 0 0 0 0 0 0 1 0 0 0 0 1 0 0 0 0 1 0 0 1 0 0 0 0 0 0 0 0 0 0\n",
            " 0 0 0 0 0 0 0 0 0 0 0 0 0 0 0 0 0 0 0 1 0 0 0 1 0 0 0 0 0 0 0 0 0 0 0 0 0\n",
            " 0 0 0 0 0 0 0 0 0 0 0 0 0 0 0 0 0 0 0 0 1 0 0 0 0 0 0 0 1 0 0 1 1 0 0 0 0\n",
            " 0 1 0 0 0 0 0 1 0 0 0 0 0 0 0 0 0 0 0 0 0 0 0 0 0 0 0 0 0 0 0 0 0 0 0 1 0\n",
            " 0 0 0 0 0 0 0 0 0 0 0 0 0 0 0 0 0 0 1 1 0 0 0 1 0 0 1 0 0 0 0 0 0 0 0 0 0\n",
            " 0 0 0 0 0 0 0 0 0 0 0 0 0 0 0 0 0 0 0 0 0 0 0 0 0 0 0 0 0 0 1 1 0 0 0 0 0\n",
            " 0 0 0 0 0 0 0 0 0 0 0 0 0 0 0 0 0 0 0 0 0 1 0 0 0 1 0 0 0 0 0 0 0 0 1 0 1\n",
            " 0 0 0 0 0 0 0 0 0 0 0 0 0 0 0 1 0 0 0 1 0 0 0 0 0 0 0 0 0 0 0 0 0 0 0 0 0\n",
            " 0 1 0 0 0 1 0 0 0 0 0 0 1 0 0 0 0 0 0 0 1 0 1 0 0 0 0 0 0 0 0 0 0 0 0 1 0\n",
            " 0 0 0 0 0 0 0 1 0 0 0 0 0 0 0 0 0 0 0 0 0 1 0 0 1 0 0 0 0 0 0 0 0 0 0 0 0\n",
            " 0 0 0 1 0 0 0 0 0 0 0 0 0 0 0 0 0 0 0 0 0 0 0 0 0 0 0 0 0 0 0 0 0 0 0 0 0\n",
            " 0 0 0 1 0 0 0 0 0 0 0 0 1 0 0 0 0 0 0 0 0 0 0 0 0 0 0 1 0 0 0 0 0 0 0 0 0\n",
            " 0 0 0 0 0 0 0 0 0 0 0 0 0 0 0 0 1 0 0 0 0 0 0 0 0 0 0 0 1 1 0 0 0 0 0 0 0\n",
            " 1 1 0 0 0 0 1 0 0 0 0 1 1 0 0 0 0 0 0 0 0 0 0 0 0 1 0 0 0 0 0 0 0 0 0 0 0\n",
            " 0 0 1 0 0 0 0 0 0 0 0 0 0 0 0 0 0 1 0 0 0 0 0 0 0 0 0 0 0 0 0 1 0 0 0 0 1\n",
            " 0 0 0 0 0 0 0 0 0 0 0]\n"
          ],
          "name": "stdout"
        }
      ]
    },
    {
      "cell_type": "code",
      "metadata": {
        "colab": {
          "base_uri": "https://localhost:8080/"
        },
        "id": "b7bE3j42jI_3",
        "outputId": "34b04512-0a76-4257-c41b-daebf2aa0a0b"
      },
      "source": [
        "from sklearn.preprocessing import StandardScaler\r\n",
        "sc = StandardScaler()\r\n",
        "X_train = sc.fit_transform(X_train)\r\n",
        "X_test = sc.transform(X_test)\r\n",
        "print(X_train)\r\n",
        "print(X_test)"
      ],
      "execution_count": 1010,
      "outputs": [
        {
          "output_type": "stream",
          "text": [
            "[[-0.4119684  -0.1344911  -0.11527191 ...  0.00958737  2.70854849\n",
            "  -0.81392632]\n",
            " [-0.4119684  -0.1344911  -0.11527191 ...  0.25376951 -0.86569875\n",
            "   0.67479301]\n",
            " [-0.4119684  -0.1344911  -0.11527191 ... -0.50097529 -0.73804706\n",
            "  -0.14656938]\n",
            " ...\n",
            " [-0.4119684  -0.1344911  -0.11527191 ... -0.50097529  0.28316643\n",
            "  -0.55725057]\n",
            " [-0.4119684  -0.1344911  -0.11527191 ... -0.6785623  -0.52529425\n",
            "  -0.40324513]\n",
            " [-0.4119684  -0.1344911  -0.11527191 ... -1.36671196 -0.05723807\n",
            "  -1.13904893]]\n",
            "[[ 2.42737065 -0.1344911  -0.11527191 ... -0.56757041 -0.39764257\n",
            "  -0.36902169]\n",
            " [-0.4119684  -0.1344911  -0.11527191 ... -0.10140451  0.02786306\n",
            "  -0.1636811 ]\n",
            " [-0.4119684  -0.1344911  -0.11527191 ...  0.38695977  1.30437993\n",
            "  -0.28346311]\n",
            " ...\n",
            " [-0.4119684  -0.1344911  -0.11527191 ...  0.36476139  0.66612149\n",
            "  -0.07812251]\n",
            " [-0.4119684  -0.1344911  -0.11527191 ... -0.03480938 -1.3763055\n",
            "   0.81168674]\n",
            " [-0.4119684  -0.1344911   8.6751406  ... -0.05700776  0.36826756\n",
            "  -0.12945766]]\n"
          ],
          "name": "stdout"
        }
      ]
    },
    {
      "cell_type": "code",
      "metadata": {
        "colab": {
          "base_uri": "https://localhost:8080/"
        },
        "id": "GmkxTBTujMYm",
        "outputId": "1c76e588-460a-41c1-e517-0a9d1e0abbda"
      },
      "source": [
        "from sklearn.linear_model import LogisticRegression\r\n",
        "classifier1 = LogisticRegression(random_state = 0)\r\n",
        "classifier1.fit(X_train, y_train)"
      ],
      "execution_count": 1011,
      "outputs": [
        {
          "output_type": "execute_result",
          "data": {
            "text/plain": [
              "LogisticRegression(C=1.0, class_weight=None, dual=False, fit_intercept=True,\n",
              "                   intercept_scaling=1, l1_ratio=None, max_iter=100,\n",
              "                   multi_class='auto', n_jobs=None, penalty='l2',\n",
              "                   random_state=0, solver='lbfgs', tol=0.0001, verbose=0,\n",
              "                   warm_start=False)"
            ]
          },
          "metadata": {
            "tags": []
          },
          "execution_count": 1011
        }
      ]
    },
    {
      "cell_type": "code",
      "metadata": {
        "colab": {
          "base_uri": "https://localhost:8080/"
        },
        "id": "_rS1a3RIjX52",
        "outputId": "f1134b56-8204-496a-ef4a-810fa302bcfa"
      },
      "source": [
        "y_pred1 = classifier1.predict(X_test)\r\n",
        "print(np.concatenate((y_pred1.reshape(len(y_pred1),1), y_test.reshape(len(y_test),1)),1))"
      ],
      "execution_count": 1012,
      "outputs": [
        {
          "output_type": "stream",
          "text": [
            "[[0 0]\n",
            " [0 0]\n",
            " [0 0]\n",
            " ...\n",
            " [0 0]\n",
            " [0 0]\n",
            " [0 0]]\n"
          ],
          "name": "stdout"
        }
      ]
    },
    {
      "cell_type": "code",
      "metadata": {
        "colab": {
          "base_uri": "https://localhost:8080/"
        },
        "id": "1RId4mQujbRO",
        "outputId": "f1a3a334-156d-4603-a442-5ed6c81c3978"
      },
      "source": [
        "from sklearn.metrics import confusion_matrix, accuracy_score\r\n",
        "cm = confusion_matrix(y_test, y_pred1)\r\n",
        "print(cm)\r\n",
        "a=accuracy_score(y_test, y_pred1)\r\n",
        "a\r\n"
      ],
      "execution_count": 1013,
      "outputs": [
        {
          "output_type": "stream",
          "text": [
            "[[714   9]\n",
            " [ 21  44]]\n"
          ],
          "name": "stdout"
        },
        {
          "output_type": "execute_result",
          "data": {
            "text/plain": [
              "0.9619289340101523"
            ]
          },
          "metadata": {
            "tags": []
          },
          "execution_count": 1013
        }
      ]
    },
    {
      "cell_type": "code",
      "metadata": {
        "colab": {
          "base_uri": "https://localhost:8080/",
          "height": 283
        },
        "id": "mEnlsNg1kHrq",
        "outputId": "099a76af-774d-4702-e13d-17a2093b43e5"
      },
      "source": [
        "sns.heatmap(cm, annot=True)"
      ],
      "execution_count": 1014,
      "outputs": [
        {
          "output_type": "execute_result",
          "data": {
            "text/plain": [
              "<matplotlib.axes._subplots.AxesSubplot at 0x7f8cd1fce278>"
            ]
          },
          "metadata": {
            "tags": []
          },
          "execution_count": 1014
        },
        {
          "output_type": "display_data",
          "data": {
            "image/png": "[encoded data removed]",
            "text/plain": [
              "<Figure size 432x288 with 2 Axes>"
            ]
          },
          "metadata": {
            "tags": [],
            "needs_background": "light"
          }
        }
      ]
    },
    {
      "cell_type": "code",
      "metadata": {
        "colab": {
          "base_uri": "https://localhost:8080/"
        },
        "id": "ajk8ZFaKlSCJ",
        "outputId": "59feec2a-4c22-4882-9ec8-2278ad509572"
      },
      "source": [
        "from sklearn.neighbors import KNeighborsClassifier\r\n",
        "classifier2 = KNeighborsClassifier(n_neighbors = 5, metric = 'minkowski', p = 2)\r\n",
        "classifier2.fit(X_train, y_train)"
      ],
      "execution_count": 1015,
      "outputs": [
        {
          "output_type": "execute_result",
          "data": {
            "text/plain": [
              "KNeighborsClassifier(algorithm='auto', leaf_size=30, metric='minkowski',\n",
              "                     metric_params=None, n_jobs=None, n_neighbors=5, p=2,\n",
              "                     weights='uniform')"
            ]
          },
          "metadata": {
            "tags": []
          },
          "execution_count": 1015
        }
      ]
    },
    {
      "cell_type": "code",
      "metadata": {
        "colab": {
          "base_uri": "https://localhost:8080/"
        },
        "id": "w-xQgK7RlR-j",
        "outputId": "41d617df-f75a-41c4-9a00-ed2361fbbbf8"
      },
      "source": [
        "y_pred2 = classifier2.predict(X_test)\r\n",
        "print(np.concatenate((y_pred2.reshape(len(y_pred2),1), y_test.reshape(len(y_test),1)),1))"
      ],
      "execution_count": 1016,
      "outputs": [
        {
          "output_type": "stream",
          "text": [
            "[[0 0]\n",
            " [0 0]\n",
            " [0 0]\n",
            " ...\n",
            " [0 0]\n",
            " [0 0]\n",
            " [0 0]]\n"
          ],
          "name": "stdout"
        }
      ]
    },
    {
      "cell_type": "code",
      "metadata": {
        "colab": {
          "base_uri": "https://localhost:8080/",
          "height": 283
        },
        "id": "7LiKJyJ4mU4g",
        "outputId": "4d232615-53a5-4313-a9a2-dac53c8c7731"
      },
      "source": [
        "from sklearn.metrics import confusion_matrix, accuracy_score\r\n",
        "cm2 = confusion_matrix(y_test, y_pred2)\r\n",
        "sns.heatmap(cm2, annot=True)\r\n",
        "b=accuracy_score(y_test, y_pred2)\r\n",
        "b"
      ],
      "execution_count": 1017,
      "outputs": [
        {
          "output_type": "execute_result",
          "data": {
            "text/plain": [
              "0.9555837563451777"
            ]
          },
          "metadata": {
            "tags": []
          },
          "execution_count": 1017
        },
        {
          "output_type": "display_data",
          "data": {
            "image/png": "[encoded data removed]",
            "text/plain": [
              "<Figure size 432x288 with 2 Axes>"
            ]
          },
          "metadata": {
            "tags": [],
            "needs_background": "light"
          }
        }
      ]
    },
    {
      "cell_type": "code",
      "metadata": {
        "colab": {
          "base_uri": "https://localhost:8080/"
        },
        "id": "cLQZoxwGmiky",
        "outputId": "c5ea1c55-bdc2-4b3f-fe6a-f311f28d70e5"
      },
      "source": [
        "from sklearn.svm import SVC\r\n",
        "classifier3 = SVC(kernel = 'rbf', random_state = 0)\r\n",
        "classifier3.fit(X_train, y_train)"
      ],
      "execution_count": 1018,
      "outputs": [
        {
          "output_type": "execute_result",
          "data": {
            "text/plain": [
              "SVC(C=1.0, break_ties=False, cache_size=200, class_weight=None, coef0=0.0,\n",
              "    decision_function_shape='ovr', degree=3, gamma='scale', kernel='rbf',\n",
              "    max_iter=-1, probability=False, random_state=0, shrinking=True, tol=0.001,\n",
              "    verbose=False)"
            ]
          },
          "metadata": {
            "tags": []
          },
          "execution_count": 1018
        }
      ]
    },
    {
      "cell_type": "code",
      "metadata": {
        "colab": {
          "base_uri": "https://localhost:8080/"
        },
        "id": "02Chg8wYmiZG",
        "outputId": "c43e27a2-f18c-473b-831f-2b752121e6b4"
      },
      "source": [
        "y_pred3 = classifier3.predict(X_test)\r\n",
        "print(np.concatenate((y_pred3.reshape(len(y_pred3),1), y_test.reshape(len(y_test),1)),1))"
      ],
      "execution_count": 1019,
      "outputs": [
        {
          "output_type": "stream",
          "text": [
            "[[0 0]\n",
            " [0 0]\n",
            " [0 0]\n",
            " ...\n",
            " [0 0]\n",
            " [0 0]\n",
            " [0 0]]\n"
          ],
          "name": "stdout"
        }
      ]
    },
    {
      "cell_type": "code",
      "metadata": {
        "colab": {
          "base_uri": "https://localhost:8080/",
          "height": 283
        },
        "id": "zhdvt-kum8ZA",
        "outputId": "c05637f9-74a8-4a87-c5d3-e22a4c4cb9da"
      },
      "source": [
        "from sklearn.metrics import confusion_matrix, accuracy_score\r\n",
        "cm3 = confusion_matrix(y_test, y_pred3)\r\n",
        "sns.heatmap(cm3, annot=True)\r\n",
        "c=accuracy_score(y_test, y_pred3)\r\n",
        "c"
      ],
      "execution_count": 1020,
      "outputs": [
        {
          "output_type": "execute_result",
          "data": {
            "text/plain": [
              "0.9543147208121827"
            ]
          },
          "metadata": {
            "tags": []
          },
          "execution_count": 1020
        },
        {
          "output_type": "display_data",
          "data": {
            "image/png": "[encoded data removed]",
            "text/plain": [
              "<Figure size 432x288 with 2 Axes>"
            ]
          },
          "metadata": {
            "tags": [],
            "needs_background": "light"
          }
        }
      ]
    },
    {
      "cell_type": "code",
      "metadata": {
        "colab": {
          "base_uri": "https://localhost:8080/"
        },
        "id": "iI39TKOUnO1k",
        "outputId": "e6129c95-14dc-4f65-e773-a6beb0096039"
      },
      "source": [
        "from sklearn.ensemble import RandomForestClassifier\r\n",
        "classifier4 = RandomForestClassifier(n_estimators = 2, criterion = 'entropy', random_state = 0)\r\n",
        "classifier4.fit(X_train, y_train)"
      ],
      "execution_count": 1021,
      "outputs": [
        {
          "output_type": "execute_result",
          "data": {
            "text/plain": [
              "RandomForestClassifier(bootstrap=True, ccp_alpha=0.0, class_weight=None,\n",
              "                       criterion='entropy', max_depth=None, max_features='auto',\n",
              "                       max_leaf_nodes=None, max_samples=None,\n",
              "                       min_impurity_decrease=0.0, min_impurity_split=None,\n",
              "                       min_samples_leaf=1, min_samples_split=2,\n",
              "                       min_weight_fraction_leaf=0.0, n_estimators=2,\n",
              "                       n_jobs=None, oob_score=False, random_state=0, verbose=0,\n",
              "                       warm_start=False)"
            ]
          },
          "metadata": {
            "tags": []
          },
          "execution_count": 1021
        }
      ]
    },
    {
      "cell_type": "code",
      "metadata": {
        "colab": {
          "base_uri": "https://localhost:8080/"
        },
        "id": "MiTT2p5MnOvU",
        "outputId": "6af2aaae-c04a-43ac-8420-655f05fcf237"
      },
      "source": [
        "y_pred4 = classifier4.predict(X_test)\r\n",
        "print(np.concatenate((y_pred4.reshape(len(y_pred4),1), y_test.reshape(len(y_test),1)),1))"
      ],
      "execution_count": 1022,
      "outputs": [
        {
          "output_type": "stream",
          "text": [
            "[[0 0]\n",
            " [0 0]\n",
            " [0 0]\n",
            " ...\n",
            " [0 0]\n",
            " [0 0]\n",
            " [0 0]]\n"
          ],
          "name": "stdout"
        }
      ]
    },
    {
      "cell_type": "code",
      "metadata": {
        "colab": {
          "base_uri": "https://localhost:8080/",
          "height": 283
        },
        "id": "cvkG8vIJnOmi",
        "outputId": "d9a6a9d5-15e7-4f29-d1c2-bb06019bd976"
      },
      "source": [
        "from sklearn.metrics import confusion_matrix, accuracy_score\r\n",
        "cm4 = confusion_matrix(y_test, y_pred4)\r\n",
        "sns.heatmap(cm4, annot=True)\r\n",
        "d=accuracy_score(y_test, y_pred4)\r\n",
        "print(d)"
      ],
      "execution_count": 1023,
      "outputs": [
        {
          "output_type": "stream",
          "text": [
            "0.9555837563451777\n"
          ],
          "name": "stdout"
        },
        {
          "output_type": "display_data",
          "data": {
            "image/png": "[encoded data removed]",
            "text/plain": [
              "<Figure size 432x288 with 2 Axes>"
            ]
          },
          "metadata": {
            "tags": [],
            "needs_background": "light"
          }
        }
      ]
    },
    {
      "cell_type": "code",
      "metadata": {
        "colab": {
          "base_uri": "https://localhost:8080/"
        },
        "id": "BnRJhiSWn5yn",
        "outputId": "e60914b9-a8d0-408a-baa8-616d51a268b9"
      },
      "source": [
        "from sklearn.naive_bayes import GaussianNB\r\n",
        "classifier5 = GaussianNB()\r\n",
        "classifier5.fit(X_train, y_train)"
      ],
      "execution_count": 1024,
      "outputs": [
        {
          "output_type": "execute_result",
          "data": {
            "text/plain": [
              "GaussianNB(priors=None, var_smoothing=1e-09)"
            ]
          },
          "metadata": {
            "tags": []
          },
          "execution_count": 1024
        }
      ]
    },
    {
      "cell_type": "code",
      "metadata": {
        "colab": {
          "base_uri": "https://localhost:8080/",
          "height": 287
        },
        "id": "lS7Cq0ZkpXqb",
        "outputId": "50340b4c-207d-42ba-ae07-15f114268135"
      },
      "source": [
        "from sklearn.metrics import confusion_matrix, accuracy_score\r\n",
        "y_pred5 = classifier5.predict(X_test)\r\n",
        "cm5 = confusion_matrix(y_test, y_pred5)\r\n",
        "sns.heatmap(cm5,annot=True)\r\n",
        "e=accuracy_score(y_test, y_pred5)\r\n",
        "e"
      ],
      "execution_count": 1025,
      "outputs": [
        {
          "output_type": "execute_result",
          "data": {
            "text/plain": [
              "0.3629441624365482"
            ]
          },
          "metadata": {
            "tags": []
          },
          "execution_count": 1025
        },
        {
          "output_type": "display_data",
          "data": {
            "image/png": "[encoded data removed]",
            "text/plain": [
              "<Figure size 432x288 with 2 Axes>"
            ]
          },
          "metadata": {
            "tags": [],
            "needs_background": "light"
          }
        }
      ]
    },
    {
      "cell_type": "code",
      "metadata": {
        "colab": {
          "base_uri": "https://localhost:8080/",
          "height": 194
        },
        "id": "eQr9zuzZpyO7",
        "outputId": "7a7d7973-6668-4436-ec89-6a019b212975"
      },
      "source": [
        "data = [a,b,c,d,e]\r\n",
        "index = ['Logistic Regression', 'KNeighborsClassifier', 'Kernel SVM', 'RandomForestClassifier', 'Naive Bayes']\r\n",
        "pd.DataFrame(data, index=index, columns=['Scores']).sort_values(ascending = False, by=['Scores'])"
      ],
      "execution_count": 1057,
      "outputs": [
        {
          "output_type": "execute_result",
          "data": {
            "text/html": [
              "<div>\n",
              "<style scoped>\n",
              "    .dataframe tbody tr th:only-of-type {\n",
              "        vertical-align: middle;\n",
              "    }\n",
              "\n",
              "    .dataframe tbody tr th {\n",
              "        vertical-align: top;\n",
              "    }\n",
              "\n",
              "    .dataframe thead th {\n",
              "        text-align: right;\n",
              "    }\n",
              "</style>\n",
              "<table border=\"1\" class=\"dataframe\">\n",
              "  <thead>\n",
              "    <tr style=\"text-align: right;\">\n",
              "      <th></th>\n",
              "      <th>Scores</th>\n",
              "    </tr>\n",
              "  </thead>\n",
              "  <tbody>\n",
              "    <tr>\n",
              "      <th>Logistic Regression</th>\n",
              "      <td>0.961929</td>\n",
              "    </tr>\n",
              "    <tr>\n",
              "      <th>KNeighborsClassifier</th>\n",
              "      <td>0.955584</td>\n",
              "    </tr>\n",
              "    <tr>\n",
              "      <th>RandomForestClassifier</th>\n",
              "      <td>0.955584</td>\n",
              "    </tr>\n",
              "    <tr>\n",
              "      <th>Kernel SVM</th>\n",
              "      <td>0.954315</td>\n",
              "    </tr>\n",
              "    <tr>\n",
              "      <th>Naive Bayes</th>\n",
              "      <td>0.362944</td>\n",
              "    </tr>\n",
              "  </tbody>\n",
              "</table>\n",
              "</div>"
            ],
            "text/plain": [
              "                          Scores\n",
              "Logistic Regression     0.961929\n",
              "KNeighborsClassifier    0.955584\n",
              "RandomForestClassifier  0.955584\n",
              "Kernel SVM              0.954315\n",
              "Naive Bayes             0.362944"
            ]
          },
          "metadata": {
            "tags": []
          },
          "execution_count": 1057
        }
      ]
    },
    {
      "cell_type": "code",
      "metadata": {
        "id": "yuYcGiAhBRs8"
      },
      "source": [
        ""
      ],
      "execution_count": null,
      "outputs": []
    },
    {
      "cell_type": "code",
      "metadata": {
        "id": "LhmkJq1FAF4X"
      },
      "source": [
        "from imblearn.over_sampling import RandomOverSampler"
      ],
      "execution_count": 1027,
      "outputs": []
    },
    {
      "cell_type": "code",
      "metadata": {
        "id": "fKGbbKzQAFuq"
      },
      "source": [
        "os=RandomOverSampler(0.75)\r\n",
        "X_train_ns,y_train_ns=os.fit_sample(X_train,y_train)\r\n"
      ],
      "execution_count": 1028,
      "outputs": []
    },
    {
      "cell_type": "code",
      "metadata": {
        "colab": {
          "base_uri": "https://localhost:8080/"
        },
        "id": "zizHizCoxfEU",
        "outputId": "e0744653-c9c4-47b4-c69b-c1666bf49c9f"
      },
      "source": [
        "pip install -U keras-tuner"
      ],
      "execution_count": 1029,
      "outputs": [
        {
          "output_type": "stream",
          "text": [
            "Requirement already up-to-date: keras-tuner in /usr/local/lib/python3.6/dist-packages (1.0.2)\n",
            "Requirement already satisfied, skipping upgrade: future in /usr/local/lib/python3.6/dist-packages (from keras-tuner) (0.16.0)\n",
            "Requirement already satisfied, skipping upgrade: tqdm in /usr/local/lib/python3.6/dist-packages (from keras-tuner) (4.41.1)\n",
            "Requirement already satisfied, skipping upgrade: scipy in /usr/local/lib/python3.6/dist-packages (from keras-tuner) (1.4.1)\n",
            "Requirement already satisfied, skipping upgrade: numpy in /usr/local/lib/python3.6/dist-packages (from keras-tuner) (1.19.5)\n",
            "Requirement already satisfied, skipping upgrade: tabulate in /usr/local/lib/python3.6/dist-packages (from keras-tuner) (0.8.7)\n",
            "Requirement already satisfied, skipping upgrade: scikit-learn in /usr/local/lib/python3.6/dist-packages (from keras-tuner) (0.22.2.post1)\n",
            "Requirement already satisfied, skipping upgrade: colorama in /usr/local/lib/python3.6/dist-packages (from keras-tuner) (0.4.4)\n",
            "Requirement already satisfied, skipping upgrade: packaging in /usr/local/lib/python3.6/dist-packages (from keras-tuner) (20.8)\n",
            "Requirement already satisfied, skipping upgrade: terminaltables in /usr/local/lib/python3.6/dist-packages (from keras-tuner) (3.1.0)\n",
            "Requirement already satisfied, skipping upgrade: requests in /usr/local/lib/python3.6/dist-packages (from keras-tuner) (2.23.0)\n",
            "Requirement already satisfied, skipping upgrade: joblib>=0.11 in /usr/local/lib/python3.6/dist-packages (from scikit-learn->keras-tuner) (1.0.0)\n",
            "Requirement already satisfied, skipping upgrade: pyparsing>=2.0.2 in /usr/local/lib/python3.6/dist-packages (from packaging->keras-tuner) (2.4.7)\n",
            "Requirement already satisfied, skipping upgrade: urllib3!=1.25.0,!=1.25.1,<1.26,>=1.21.1 in /usr/local/lib/python3.6/dist-packages (from requests->keras-tuner) (1.24.3)\n",
            "Requirement already satisfied, skipping upgrade: chardet<4,>=3.0.2 in /usr/local/lib/python3.6/dist-packages (from requests->keras-tuner) (3.0.4)\n",
            "Requirement already satisfied, skipping upgrade: certifi>=2017.4.17 in /usr/local/lib/python3.6/dist-packages (from requests->keras-tuner) (2020.12.5)\n",
            "Requirement already satisfied, skipping upgrade: idna<3,>=2.5 in /usr/local/lib/python3.6/dist-packages (from requests->keras-tuner) (2.10)\n"
          ],
          "name": "stdout"
        }
      ]
    },
    {
      "cell_type": "code",
      "metadata": {
        "id": "2d66Oy74sHgm"
      },
      "source": [
        "from tensorflow import keras\r\n",
        "from tensorflow.keras import layers\r\n",
        "from kerastuner.tuners import RandomSearch"
      ],
      "execution_count": 1030,
      "outputs": []
    },
    {
      "cell_type": "code",
      "metadata": {
        "id": "9TJ0GzZjsj_c"
      },
      "source": [
        "def build_model(hp):\r\n",
        "    model = keras.Sequential()\r\n",
        "    for i in range(hp.Int('num_layers', 2, 20)):\r\n",
        "        model.add(layers.Dense(units=hp.Int('units_' + str(i),\r\n",
        "                                            min_value=32,\r\n",
        "                                            max_value=512,\r\n",
        "                                            step=32),\r\n",
        "                               activation='relu'))\r\n",
        "    model.add(layers.Dense(1, activation='sigmoid'))\r\n",
        "    model.compile(\r\n",
        "        optimizer=keras.optimizers.Adam(\r\n",
        "            hp.Choice('learning_rate', [1e-2, 1e-3, 1e-4])),\r\n",
        "        loss='binary_crossentropy',\r\n",
        "        metrics=['accuracy'])\r\n",
        "    return model"
      ],
      "execution_count": 1031,
      "outputs": []
    },
    {
      "cell_type": "code",
      "metadata": {
        "colab": {
          "base_uri": "https://localhost:8080/"
        },
        "id": "mNj6O3WFsjs1",
        "outputId": "07ee3c62-dbe9-4c8d-f24c-dfac956c64df"
      },
      "source": [
        "tuner = RandomSearch(\r\n",
        "    build_model,\r\n",
        "    objective='val_accuracy',\r\n",
        "    max_trials=5,\r\n",
        "    executions_per_trial=2,\r\n",
        "    directory='project',\r\n",
        "    project_name='Thyroid')"
      ],
      "execution_count": 1032,
      "outputs": [
        {
          "output_type": "stream",
          "text": [
            "INFO:tensorflow:Reloading Oracle from existing project project/Thyroid/oracle.json\n",
            "INFO:tensorflow:Reloading Tuner from project/Thyroid/tuner0.json\n"
          ],
          "name": "stdout"
        }
      ]
    },
    {
      "cell_type": "code",
      "metadata": {
        "colab": {
          "base_uri": "https://localhost:8080/"
        },
        "id": "n5M3pqI_xhSr",
        "outputId": "ebc93808-9a65-42e3-beb1-a9da10da82d5"
      },
      "source": [
        "tuner.search_space_summary()"
      ],
      "execution_count": 1033,
      "outputs": [
        {
          "output_type": "stream",
          "text": [
            "Search space summary\n",
            "Default search space size: 20\n",
            "num_layers (Int)\n",
            "{'default': None, 'conditions': [], 'min_value': 2, 'max_value': 20, 'step': 1, 'sampling': None}\n",
            "units_0 (Int)\n",
            "{'default': None, 'conditions': [], 'min_value': 32, 'max_value': 512, 'step': 32, 'sampling': None}\n",
            "units_1 (Int)\n",
            "{'default': None, 'conditions': [], 'min_value': 32, 'max_value': 512, 'step': 32, 'sampling': None}\n",
            "learning_rate (Choice)\n",
            "{'default': 0.01, 'conditions': [], 'values': [0.01, 0.001, 0.0001], 'ordered': True}\n",
            "units_2 (Int)\n",
            "{'default': None, 'conditions': [], 'min_value': 32, 'max_value': 512, 'step': 32, 'sampling': None}\n",
            "units_3 (Int)\n",
            "{'default': None, 'conditions': [], 'min_value': 32, 'max_value': 512, 'step': 32, 'sampling': None}\n",
            "units_4 (Int)\n",
            "{'default': None, 'conditions': [], 'min_value': 32, 'max_value': 512, 'step': 32, 'sampling': None}\n",
            "units_5 (Int)\n",
            "{'default': None, 'conditions': [], 'min_value': 32, 'max_value': 512, 'step': 32, 'sampling': None}\n",
            "units_6 (Int)\n",
            "{'default': None, 'conditions': [], 'min_value': 32, 'max_value': 512, 'step': 32, 'sampling': None}\n",
            "units_7 (Int)\n",
            "{'default': None, 'conditions': [], 'min_value': 32, 'max_value': 512, 'step': 32, 'sampling': None}\n",
            "units_8 (Int)\n",
            "{'default': None, 'conditions': [], 'min_value': 32, 'max_value': 512, 'step': 32, 'sampling': None}\n",
            "units_9 (Int)\n",
            "{'default': None, 'conditions': [], 'min_value': 32, 'max_value': 512, 'step': 32, 'sampling': None}\n",
            "units_10 (Int)\n",
            "{'default': None, 'conditions': [], 'min_value': 32, 'max_value': 512, 'step': 32, 'sampling': None}\n",
            "units_11 (Int)\n",
            "{'default': None, 'conditions': [], 'min_value': 32, 'max_value': 512, 'step': 32, 'sampling': None}\n",
            "units_12 (Int)\n",
            "{'default': None, 'conditions': [], 'min_value': 32, 'max_value': 512, 'step': 32, 'sampling': None}\n",
            "units_13 (Int)\n",
            "{'default': None, 'conditions': [], 'min_value': 32, 'max_value': 512, 'step': 32, 'sampling': None}\n",
            "units_14 (Int)\n",
            "{'default': None, 'conditions': [], 'min_value': 32, 'max_value': 512, 'step': 32, 'sampling': None}\n",
            "units_15 (Int)\n",
            "{'default': None, 'conditions': [], 'min_value': 32, 'max_value': 512, 'step': 32, 'sampling': None}\n",
            "units_16 (Int)\n",
            "{'default': None, 'conditions': [], 'min_value': 32, 'max_value': 512, 'step': 32, 'sampling': None}\n",
            "units_17 (Int)\n",
            "{'default': None, 'conditions': [], 'min_value': 32, 'max_value': 512, 'step': 32, 'sampling': None}\n"
          ],
          "name": "stdout"
        }
      ]
    },
    {
      "cell_type": "code",
      "metadata": {
        "colab": {
          "base_uri": "https://localhost:8080/"
        },
        "id": "Fc9o5zBjyErp",
        "outputId": "228b33e4-2c38-4769-f763-9d9fa45715a3"
      },
      "source": [
        "tuner.search(X_train_ns, y_train_ns,\r\n",
        "             epochs=2,\r\n",
        "             validation_data=(X_test, y_test))"
      ],
      "execution_count": 1034,
      "outputs": [
        {
          "output_type": "stream",
          "text": [
            "INFO:tensorflow:Oracle triggered exit\n"
          ],
          "name": "stdout"
        }
      ]
    },
    {
      "cell_type": "code",
      "metadata": {
        "colab": {
          "base_uri": "https://localhost:8080/"
        },
        "id": "-mOItkVwyHE9",
        "outputId": "0568587b-347d-43f9-c0a5-7752ca59c4ef"
      },
      "source": [
        "tuner.results_summary()"
      ],
      "execution_count": 1035,
      "outputs": [
        {
          "output_type": "stream",
          "text": [
            "Results summary\n",
            "Results in project/Thyroid\n",
            "Showing 10 best trials\n",
            "Objective(name='val_accuracy', direction='max')\n",
            "Trial summary\n",
            "Hyperparameters:\n",
            "num_layers: 13\n",
            "units_0: 288\n",
            "units_1: 448\n",
            "learning_rate: 0.001\n",
            "units_2: 192\n",
            "units_3: 320\n",
            "units_4: 416\n",
            "units_5: 96\n",
            "units_6: 352\n",
            "units_7: 128\n",
            "units_8: 128\n",
            "units_9: 384\n",
            "units_10: 448\n",
            "units_11: 352\n",
            "units_12: 288\n",
            "Score: 0.9530456960201263\n",
            "Trial summary\n",
            "Hyperparameters:\n",
            "num_layers: 13\n",
            "units_0: 160\n",
            "units_1: 64\n",
            "learning_rate: 0.001\n",
            "units_2: 32\n",
            "units_3: 32\n",
            "units_4: 32\n",
            "units_5: 32\n",
            "units_6: 32\n",
            "units_7: 32\n",
            "units_8: 32\n",
            "units_9: 32\n",
            "units_10: 32\n",
            "units_11: 32\n",
            "units_12: 32\n",
            "Score: 0.9447969496250153\n",
            "Trial summary\n",
            "Hyperparameters:\n",
            "num_layers: 18\n",
            "units_0: 448\n",
            "units_1: 224\n",
            "learning_rate: 0.001\n",
            "units_2: 384\n",
            "units_3: 416\n",
            "units_4: 96\n",
            "units_5: 480\n",
            "units_6: 448\n",
            "units_7: 480\n",
            "units_8: 160\n",
            "units_9: 320\n",
            "units_10: 384\n",
            "units_11: 416\n",
            "units_12: 352\n",
            "units_13: 32\n",
            "units_14: 32\n",
            "units_15: 32\n",
            "units_16: 32\n",
            "units_17: 32\n",
            "Score: 0.942258894443512\n",
            "Trial summary\n",
            "Hyperparameters:\n",
            "num_layers: 18\n",
            "units_0: 416\n",
            "units_1: 352\n",
            "learning_rate: 0.01\n",
            "units_2: 384\n",
            "units_3: 384\n",
            "units_4: 448\n",
            "units_5: 416\n",
            "units_6: 320\n",
            "units_7: 288\n",
            "units_8: 96\n",
            "units_9: 480\n",
            "units_10: 320\n",
            "units_11: 160\n",
            "units_12: 512\n",
            "units_13: 320\n",
            "units_14: 352\n",
            "units_15: 64\n",
            "units_16: 160\n",
            "units_17: 192\n",
            "Score: 0.9175127148628235\n",
            "Trial summary\n",
            "Hyperparameters:\n",
            "num_layers: 3\n",
            "units_0: 384\n",
            "units_1: 224\n",
            "learning_rate: 0.0001\n",
            "units_2: 224\n",
            "units_3: 192\n",
            "units_4: 64\n",
            "units_5: 224\n",
            "units_6: 256\n",
            "units_7: 352\n",
            "units_8: 32\n",
            "units_9: 480\n",
            "units_10: 128\n",
            "units_11: 480\n",
            "units_12: 224\n",
            "Score: 0.9143401086330414\n"
          ],
          "name": "stdout"
        }
      ]
    },
    {
      "cell_type": "code",
      "metadata": {
        "id": "FTAjZe6VMfvv"
      },
      "source": [
        "import numpy as np\r\n",
        "import pandas as pd\r\n",
        "import scipy as sc\r\n",
        "import seaborn as sns\r\n",
        "import warnings\r\n",
        "import matplotlib.pyplot as plt\r\n",
        "from scipy import stats\r\n",
        "%matplotlib inline\r\n",
        "import tensorflow as tf\r\n",
        "\r\n",
        "from sklearn import metrics\r\n",
        "from sklearn import preprocessing\r\n",
        "\r\n",
        "\r\n",
        "warnings.filterwarnings('ignore')"
      ],
      "execution_count": 1036,
      "outputs": []
    },
    {
      "cell_type": "code",
      "metadata": {
        "id": "269_F2uvMfmT",
        "colab": {
          "base_uri": "https://localhost:8080/",
          "height": 214
        },
        "outputId": "e984412a-8153-430e-f0ee-d8d901de41cc"
      },
      "source": [
        "dataset = pd.read_csv('full_dataset.csv')\r\n",
        "dataset.head()"
      ],
      "execution_count": 1037,
      "outputs": [
        {
          "output_type": "execute_result",
          "data": {
            "text/html": [
              "<div>\n",
              "<style scoped>\n",
              "    .dataframe tbody tr th:only-of-type {\n",
              "        vertical-align: middle;\n",
              "    }\n",
              "\n",
              "    .dataframe tbody tr th {\n",
              "        vertical-align: top;\n",
              "    }\n",
              "\n",
              "    .dataframe thead th {\n",
              "        text-align: right;\n",
              "    }\n",
              "</style>\n",
              "<table border=\"1\" class=\"dataframe\">\n",
              "  <thead>\n",
              "    <tr style=\"text-align: right;\">\n",
              "      <th></th>\n",
              "      <th>on_thyroxine</th>\n",
              "      <th>query_on_thyroxine</th>\n",
              "      <th>on_antithyroid_medication</th>\n",
              "      <th>thyroid_surgery</th>\n",
              "      <th>query_hypothyroid</th>\n",
              "      <th>query_hyperthyroid</th>\n",
              "      <th>pregnant</th>\n",
              "      <th>sick</th>\n",
              "      <th>tumor</th>\n",
              "      <th>lithium</th>\n",
              "      <th>goitre</th>\n",
              "      <th>TSH_measured</th>\n",
              "      <th>T3_measured</th>\n",
              "      <th>TT4_measured</th>\n",
              "      <th>T4U_measured</th>\n",
              "      <th>FTI_measured</th>\n",
              "      <th>age</th>\n",
              "      <th>sex</th>\n",
              "      <th>TSH</th>\n",
              "      <th>T3</th>\n",
              "      <th>TT4</th>\n",
              "      <th>T4U</th>\n",
              "      <th>FTI</th>\n",
              "      <th>classes</th>\n",
              "    </tr>\n",
              "  </thead>\n",
              "  <tbody>\n",
              "    <tr>\n",
              "      <th>0</th>\n",
              "      <td>0</td>\n",
              "      <td>0</td>\n",
              "      <td>0</td>\n",
              "      <td>0</td>\n",
              "      <td>0</td>\n",
              "      <td>0</td>\n",
              "      <td>0</td>\n",
              "      <td>0</td>\n",
              "      <td>0</td>\n",
              "      <td>0</td>\n",
              "      <td>0</td>\n",
              "      <td>1</td>\n",
              "      <td>1</td>\n",
              "      <td>1</td>\n",
              "      <td>1</td>\n",
              "      <td>1</td>\n",
              "      <td>80</td>\n",
              "      <td>1</td>\n",
              "      <td>1.4</td>\n",
              "      <td>0.8</td>\n",
              "      <td>105.0</td>\n",
              "      <td>0.88</td>\n",
              "      <td>120.0</td>\n",
              "      <td>1</td>\n",
              "    </tr>\n",
              "    <tr>\n",
              "      <th>1</th>\n",
              "      <td>0</td>\n",
              "      <td>0</td>\n",
              "      <td>0</td>\n",
              "      <td>0</td>\n",
              "      <td>0</td>\n",
              "      <td>0</td>\n",
              "      <td>0</td>\n",
              "      <td>0</td>\n",
              "      <td>0</td>\n",
              "      <td>0</td>\n",
              "      <td>0</td>\n",
              "      <td>1</td>\n",
              "      <td>1</td>\n",
              "      <td>1</td>\n",
              "      <td>1</td>\n",
              "      <td>1</td>\n",
              "      <td>74</td>\n",
              "      <td>0</td>\n",
              "      <td>0.0</td>\n",
              "      <td>0.7</td>\n",
              "      <td>98.0</td>\n",
              "      <td>0.81</td>\n",
              "      <td>121.0</td>\n",
              "      <td>1</td>\n",
              "    </tr>\n",
              "    <tr>\n",
              "      <th>2</th>\n",
              "      <td>0</td>\n",
              "      <td>0</td>\n",
              "      <td>0</td>\n",
              "      <td>0</td>\n",
              "      <td>0</td>\n",
              "      <td>0</td>\n",
              "      <td>0</td>\n",
              "      <td>0</td>\n",
              "      <td>0</td>\n",
              "      <td>0</td>\n",
              "      <td>0</td>\n",
              "      <td>1</td>\n",
              "      <td>1</td>\n",
              "      <td>1</td>\n",
              "      <td>1</td>\n",
              "      <td>1</td>\n",
              "      <td>32</td>\n",
              "      <td>0</td>\n",
              "      <td>1.4</td>\n",
              "      <td>1.1</td>\n",
              "      <td>121.0</td>\n",
              "      <td>1.11</td>\n",
              "      <td>109.0</td>\n",
              "      <td>1</td>\n",
              "    </tr>\n",
              "    <tr>\n",
              "      <th>3</th>\n",
              "      <td>0</td>\n",
              "      <td>0</td>\n",
              "      <td>0</td>\n",
              "      <td>0</td>\n",
              "      <td>0</td>\n",
              "      <td>0</td>\n",
              "      <td>0</td>\n",
              "      <td>0</td>\n",
              "      <td>0</td>\n",
              "      <td>0</td>\n",
              "      <td>0</td>\n",
              "      <td>1</td>\n",
              "      <td>1</td>\n",
              "      <td>1</td>\n",
              "      <td>1</td>\n",
              "      <td>1</td>\n",
              "      <td>42</td>\n",
              "      <td>0</td>\n",
              "      <td>2.3</td>\n",
              "      <td>1.1</td>\n",
              "      <td>93.0</td>\n",
              "      <td>0.73</td>\n",
              "      <td>127.0</td>\n",
              "      <td>1</td>\n",
              "    </tr>\n",
              "    <tr>\n",
              "      <th>4</th>\n",
              "      <td>0</td>\n",
              "      <td>0</td>\n",
              "      <td>0</td>\n",
              "      <td>0</td>\n",
              "      <td>0</td>\n",
              "      <td>0</td>\n",
              "      <td>0</td>\n",
              "      <td>0</td>\n",
              "      <td>0</td>\n",
              "      <td>0</td>\n",
              "      <td>0</td>\n",
              "      <td>1</td>\n",
              "      <td>1</td>\n",
              "      <td>1</td>\n",
              "      <td>1</td>\n",
              "      <td>1</td>\n",
              "      <td>89</td>\n",
              "      <td>1</td>\n",
              "      <td>0.8</td>\n",
              "      <td>0.8</td>\n",
              "      <td>111.0</td>\n",
              "      <td>0.68</td>\n",
              "      <td>165.0</td>\n",
              "      <td>1</td>\n",
              "    </tr>\n",
              "  </tbody>\n",
              "</table>\n",
              "</div>"
            ],
            "text/plain": [
              "   on_thyroxine  query_on_thyroxine  ...    FTI  classes\n",
              "0             0                   0  ...  120.0        1\n",
              "1             0                   0  ...  121.0        1\n",
              "2             0                   0  ...  109.0        1\n",
              "3             0                   0  ...  127.0        1\n",
              "4             0                   0  ...  165.0        1\n",
              "\n",
              "[5 rows x 24 columns]"
            ]
          },
          "metadata": {
            "tags": []
          },
          "execution_count": 1037
        }
      ]
    },
    {
      "cell_type": "code",
      "metadata": {
        "id": "EAbz55Xitx3Z"
      },
      "source": [
        "X = dataset.iloc[:, 0:-1].values\r\n",
        "y = dataset.iloc[:, -1].values"
      ],
      "execution_count": 1038,
      "outputs": []
    },
    {
      "cell_type": "code",
      "metadata": {
        "id": "jCeZK4-Tt2A_"
      },
      "source": [
        "from sklearn.model_selection import train_test_split\r\n",
        "X_train, X_test, y_train, y_test = train_test_split(X, y, test_size = 0.25, random_state = 0)"
      ],
      "execution_count": 1039,
      "outputs": []
    },
    {
      "cell_type": "code",
      "metadata": {
        "id": "XZ6ML4cpt5V4"
      },
      "source": [
        "from sklearn.preprocessing import StandardScaler\r\n",
        "sc = StandardScaler()\r\n",
        "X_train = sc.fit_transform(X_train)\r\n",
        "X_test = sc.transform(X_test)"
      ],
      "execution_count": 1040,
      "outputs": []
    },
    {
      "cell_type": "code",
      "metadata": {
        "colab": {
          "base_uri": "https://localhost:8080/"
        },
        "id": "gGUpaYVB1sWy",
        "outputId": "58fc5c48-5830-406f-bfae-b996cfcd8961"
      },
      "source": [
        "from collections import Counter\r\n",
        "from imblearn.over_sampling import RandomOverSampler\r\n",
        "os=RandomOverSampler(1)\r\n",
        "X_train_ns,y_train_ns=os.fit_sample(X_train,y_train)\r\n",
        "print(\"The number of classes before fit {}\".format(Counter(y_train)))\r\n",
        "print(\"The number of classes after fit {}\".format(Counter(y_train_ns)))"
      ],
      "execution_count": 1041,
      "outputs": [
        {
          "output_type": "stream",
          "text": [
            "The number of classes before fit Counter({0: 2141, 1: 223})\n",
            "The number of classes after fit Counter({0: 2141, 1: 2141})\n"
          ],
          "name": "stdout"
        }
      ]
    },
    {
      "cell_type": "code",
      "metadata": {
        "id": "Z1vdjghPuBgK"
      },
      "source": [
        "ann = tf.keras.models.Sequential()"
      ],
      "execution_count": 1042,
      "outputs": []
    },
    {
      "cell_type": "code",
      "metadata": {
        "id": "SShtZChUuGFA"
      },
      "source": [
        "ann.add(tf.keras.layers.Dense(units=32, kernel_initializer = 'he_uniform',activation='relu'))"
      ],
      "execution_count": 1043,
      "outputs": []
    },
    {
      "cell_type": "code",
      "metadata": {
        "id": "gR4V9Al2uF47"
      },
      "source": [
        "ann.add(tf.keras.layers.Dense(units=400, kernel_initializer = 'he_uniform',activation='relu'))"
      ],
      "execution_count": 1044,
      "outputs": []
    },
    {
      "cell_type": "code",
      "metadata": {
        "id": "3C21oYw_ue_9"
      },
      "source": [
        "ann.add(tf.keras.layers.Dense(units=500, kernel_initializer = 'he_uniform',activation='relu'))"
      ],
      "execution_count": 1045,
      "outputs": []
    },
    {
      "cell_type": "code",
      "metadata": {
        "id": "IgjAb4SD-ElX"
      },
      "source": [
        "ann.add(tf.keras.layers.Dense(units=400, kernel_initializer = 'he_uniform',activation='relu'))"
      ],
      "execution_count": 1046,
      "outputs": []
    },
    {
      "cell_type": "code",
      "metadata": {
        "id": "YtAuIzyF2HKI"
      },
      "source": [
        "ann.add(tf.keras.layers.Dense(units=400, kernel_initializer = 'he_uniform',activation='relu'))"
      ],
      "execution_count": 1047,
      "outputs": []
    },
    {
      "cell_type": "code",
      "metadata": {
        "id": "10vk8r0dulII"
      },
      "source": [
        "ann.add(tf.keras.layers.Dense(units=400, kernel_initializer = 'he_uniform',activation='relu'))"
      ],
      "execution_count": 1048,
      "outputs": []
    },
    {
      "cell_type": "code",
      "metadata": {
        "id": "jCnNGxczutlV"
      },
      "source": [
        "ann.add(tf.keras.layers.Dense(units=1,kernel_initializer = 'glorot_uniform', activation='sigmoid'))"
      ],
      "execution_count": 1049,
      "outputs": []
    },
    {
      "cell_type": "code",
      "metadata": {
        "id": "HBrXBLqIuw5D"
      },
      "source": [
        "ann.compile(optimizer = 'adam', loss = 'binary_crossentropy', metrics = ['accuracy'])"
      ],
      "execution_count": 1050,
      "outputs": []
    },
    {
      "cell_type": "code",
      "metadata": {
        "colab": {
          "base_uri": "https://localhost:8080/"
        },
        "id": "9nkRSJO3wI8V",
        "outputId": "de1fffde-2958-48c7-ada6-10f4c7becc82"
      },
      "source": [
        "model_history=ann.fit(X_train_ns, y_train_ns, batch_size = 32, epochs = 300)"
      ],
      "execution_count": 1051,
      "outputs": [
        {
          "output_type": "stream",
          "text": [
            "Epoch 1/300\n",
            "134/134 [==============================] - 1s 3ms/step - loss: 0.4591 - accuracy: 0.7934\n",
            "Epoch 2/300\n",
            "134/134 [==============================] - 0s 2ms/step - loss: 0.1638 - accuracy: 0.9445\n",
            "Epoch 3/300\n",
            "134/134 [==============================] - 0s 2ms/step - loss: 0.1099 - accuracy: 0.9604\n",
            "Epoch 4/300\n",
            "134/134 [==============================] - 0s 3ms/step - loss: 0.1032 - accuracy: 0.9695\n",
            "Epoch 5/300\n",
            "134/134 [==============================] - 0s 3ms/step - loss: 0.1031 - accuracy: 0.9670\n",
            "Epoch 6/300\n",
            "134/134 [==============================] - 0s 3ms/step - loss: 0.0842 - accuracy: 0.9721\n",
            "Epoch 7/300\n",
            "134/134 [==============================] - 0s 3ms/step - loss: 0.1060 - accuracy: 0.9683\n",
            "Epoch 8/300\n",
            "134/134 [==============================] - 0s 2ms/step - loss: 0.0632 - accuracy: 0.9838\n",
            "Epoch 9/300\n",
            "134/134 [==============================] - 0s 3ms/step - loss: 0.0679 - accuracy: 0.9793\n",
            "Epoch 10/300\n",
            "134/134 [==============================] - 0s 3ms/step - loss: 0.0609 - accuracy: 0.9812\n",
            "Epoch 11/300\n",
            "134/134 [==============================] - 0s 2ms/step - loss: 0.0498 - accuracy: 0.9874\n",
            "Epoch 12/300\n",
            "134/134 [==============================] - 0s 3ms/step - loss: 0.0468 - accuracy: 0.9867\n",
            "Epoch 13/300\n",
            "134/134 [==============================] - 0s 3ms/step - loss: 0.0516 - accuracy: 0.9857\n",
            "Epoch 14/300\n",
            "134/134 [==============================] - 0s 2ms/step - loss: 0.0507 - accuracy: 0.9865\n",
            "Epoch 15/300\n",
            "134/134 [==============================] - 0s 2ms/step - loss: 0.0542 - accuracy: 0.9851\n",
            "Epoch 16/300\n",
            "134/134 [==============================] - 0s 2ms/step - loss: 0.0474 - accuracy: 0.9867\n",
            "Epoch 17/300\n",
            "134/134 [==============================] - 0s 2ms/step - loss: 0.0446 - accuracy: 0.9894\n",
            "Epoch 18/300\n",
            "134/134 [==============================] - 0s 2ms/step - loss: 0.0467 - accuracy: 0.9875\n",
            "Epoch 19/300\n",
            "134/134 [==============================] - 0s 2ms/step - loss: 0.0345 - accuracy: 0.9903\n",
            "Epoch 20/300\n",
            "134/134 [==============================] - 0s 3ms/step - loss: 0.0405 - accuracy: 0.9901\n",
            "Epoch 21/300\n",
            "134/134 [==============================] - 0s 2ms/step - loss: 0.0263 - accuracy: 0.9941\n",
            "Epoch 22/300\n",
            "134/134 [==============================] - 0s 3ms/step - loss: 0.0312 - accuracy: 0.9933\n",
            "Epoch 23/300\n",
            "134/134 [==============================] - 0s 3ms/step - loss: 0.0229 - accuracy: 0.9938\n",
            "Epoch 24/300\n",
            "134/134 [==============================] - 0s 3ms/step - loss: 0.0217 - accuracy: 0.9945\n",
            "Epoch 25/300\n",
            "134/134 [==============================] - 0s 3ms/step - loss: 0.0330 - accuracy: 0.9905\n",
            "Epoch 26/300\n",
            "134/134 [==============================] - 0s 3ms/step - loss: 0.0344 - accuracy: 0.9914\n",
            "Epoch 27/300\n",
            "134/134 [==============================] - 0s 3ms/step - loss: 0.0629 - accuracy: 0.9866\n",
            "Epoch 28/300\n",
            "134/134 [==============================] - 0s 3ms/step - loss: 0.0401 - accuracy: 0.9899\n",
            "Epoch 29/300\n",
            "134/134 [==============================] - 0s 2ms/step - loss: 0.0223 - accuracy: 0.9923\n",
            "Epoch 30/300\n",
            "134/134 [==============================] - 0s 3ms/step - loss: 0.0169 - accuracy: 0.9957\n",
            "Epoch 31/300\n",
            "134/134 [==============================] - 0s 2ms/step - loss: 0.0497 - accuracy: 0.9862\n",
            "Epoch 32/300\n",
            "134/134 [==============================] - 0s 2ms/step - loss: 0.0361 - accuracy: 0.9906\n",
            "Epoch 33/300\n",
            "134/134 [==============================] - 0s 3ms/step - loss: 0.0278 - accuracy: 0.9921\n",
            "Epoch 34/300\n",
            "134/134 [==============================] - 0s 3ms/step - loss: 0.0206 - accuracy: 0.9946\n",
            "Epoch 35/300\n",
            "134/134 [==============================] - 0s 3ms/step - loss: 0.0265 - accuracy: 0.9946\n",
            "Epoch 36/300\n",
            "134/134 [==============================] - 0s 3ms/step - loss: 0.0228 - accuracy: 0.9951\n",
            "Epoch 37/300\n",
            "134/134 [==============================] - 0s 3ms/step - loss: 0.0197 - accuracy: 0.9942\n",
            "Epoch 38/300\n",
            "134/134 [==============================] - 0s 3ms/step - loss: 0.0278 - accuracy: 0.9923\n",
            "Epoch 39/300\n",
            "134/134 [==============================] - 0s 3ms/step - loss: 0.0153 - accuracy: 0.9961\n",
            "Epoch 40/300\n",
            "134/134 [==============================] - 0s 3ms/step - loss: 0.0251 - accuracy: 0.9931\n",
            "Epoch 41/300\n",
            "134/134 [==============================] - 0s 3ms/step - loss: 0.0247 - accuracy: 0.9944\n",
            "Epoch 42/300\n",
            "134/134 [==============================] - 0s 3ms/step - loss: 0.0226 - accuracy: 0.9925\n",
            "Epoch 43/300\n",
            "134/134 [==============================] - 0s 3ms/step - loss: 0.0115 - accuracy: 0.9965\n",
            "Epoch 44/300\n",
            "134/134 [==============================] - 0s 3ms/step - loss: 0.0272 - accuracy: 0.9923\n",
            "Epoch 45/300\n",
            "134/134 [==============================] - 0s 3ms/step - loss: 0.0263 - accuracy: 0.9934\n",
            "Epoch 46/300\n",
            "134/134 [==============================] - 0s 3ms/step - loss: 0.0181 - accuracy: 0.9934\n",
            "Epoch 47/300\n",
            "134/134 [==============================] - 0s 3ms/step - loss: 0.0230 - accuracy: 0.9921\n",
            "Epoch 48/300\n",
            "134/134 [==============================] - 0s 3ms/step - loss: 0.0084 - accuracy: 0.9970\n",
            "Epoch 49/300\n",
            "134/134 [==============================] - 0s 3ms/step - loss: 0.0181 - accuracy: 0.9953\n",
            "Epoch 50/300\n",
            "134/134 [==============================] - 0s 3ms/step - loss: 0.0165 - accuracy: 0.9949\n",
            "Epoch 51/300\n",
            "134/134 [==============================] - 0s 3ms/step - loss: 0.0093 - accuracy: 0.9967\n",
            "Epoch 52/300\n",
            "134/134 [==============================] - 0s 3ms/step - loss: 0.0284 - accuracy: 0.9934\n",
            "Epoch 53/300\n",
            "134/134 [==============================] - 0s 3ms/step - loss: 0.0177 - accuracy: 0.9944\n",
            "Epoch 54/300\n",
            "134/134 [==============================] - 0s 3ms/step - loss: 0.0468 - accuracy: 0.9861\n",
            "Epoch 55/300\n",
            "134/134 [==============================] - 0s 3ms/step - loss: 0.0309 - accuracy: 0.9927\n",
            "Epoch 56/300\n",
            "134/134 [==============================] - 0s 3ms/step - loss: 0.0193 - accuracy: 0.9942\n",
            "Epoch 57/300\n",
            "134/134 [==============================] - 0s 3ms/step - loss: 0.0121 - accuracy: 0.9968\n",
            "Epoch 58/300\n",
            "134/134 [==============================] - 0s 3ms/step - loss: 0.0793 - accuracy: 0.9872\n",
            "Epoch 59/300\n",
            "134/134 [==============================] - 0s 3ms/step - loss: 0.0401 - accuracy: 0.9948\n",
            "Epoch 60/300\n",
            "134/134 [==============================] - 0s 3ms/step - loss: 0.0183 - accuracy: 0.9945\n",
            "Epoch 61/300\n",
            "134/134 [==============================] - 0s 3ms/step - loss: 0.0111 - accuracy: 0.9965\n",
            "Epoch 62/300\n",
            "134/134 [==============================] - 0s 3ms/step - loss: 0.0130 - accuracy: 0.9965\n",
            "Epoch 63/300\n",
            "134/134 [==============================] - 0s 3ms/step - loss: 0.0071 - accuracy: 0.9971\n",
            "Epoch 64/300\n",
            "134/134 [==============================] - 0s 3ms/step - loss: 0.0057 - accuracy: 0.9988\n",
            "Epoch 65/300\n",
            "134/134 [==============================] - 0s 3ms/step - loss: 0.0037 - accuracy: 0.9986\n",
            "Epoch 66/300\n",
            "134/134 [==============================] - 0s 3ms/step - loss: 0.0600 - accuracy: 0.9904\n",
            "Epoch 67/300\n",
            "134/134 [==============================] - 0s 3ms/step - loss: 0.0265 - accuracy: 0.9939\n",
            "Epoch 68/300\n",
            "134/134 [==============================] - 0s 3ms/step - loss: 0.0124 - accuracy: 0.9960\n",
            "Epoch 69/300\n",
            "134/134 [==============================] - 0s 3ms/step - loss: 0.0258 - accuracy: 0.9925\n",
            "Epoch 70/300\n",
            "134/134 [==============================] - 0s 3ms/step - loss: 0.0180 - accuracy: 0.9948\n",
            "Epoch 71/300\n",
            "134/134 [==============================] - 0s 3ms/step - loss: 0.0458 - accuracy: 0.9909\n",
            "Epoch 72/300\n",
            "134/134 [==============================] - 0s 3ms/step - loss: 0.0122 - accuracy: 0.9969\n",
            "Epoch 73/300\n",
            "134/134 [==============================] - 0s 3ms/step - loss: 0.0236 - accuracy: 0.9939\n",
            "Epoch 74/300\n",
            "134/134 [==============================] - 0s 3ms/step - loss: 0.0069 - accuracy: 0.9989\n",
            "Epoch 75/300\n",
            "134/134 [==============================] - 0s 3ms/step - loss: 0.0185 - accuracy: 0.9959\n",
            "Epoch 76/300\n",
            "134/134 [==============================] - 0s 3ms/step - loss: 0.0184 - accuracy: 0.9941\n",
            "Epoch 77/300\n",
            "134/134 [==============================] - 0s 3ms/step - loss: 0.0107 - accuracy: 0.9961\n",
            "Epoch 78/300\n",
            "134/134 [==============================] - 0s 3ms/step - loss: 0.0256 - accuracy: 0.9946\n",
            "Epoch 79/300\n",
            "134/134 [==============================] - 0s 3ms/step - loss: 0.0078 - accuracy: 0.9988\n",
            "Epoch 80/300\n",
            "134/134 [==============================] - 0s 3ms/step - loss: 0.0071 - accuracy: 0.9975\n",
            "Epoch 81/300\n",
            "134/134 [==============================] - 0s 3ms/step - loss: 0.0075 - accuracy: 0.9983\n",
            "Epoch 82/300\n",
            "134/134 [==============================] - 0s 3ms/step - loss: 0.0441 - accuracy: 0.9914\n",
            "Epoch 83/300\n",
            "134/134 [==============================] - 0s 3ms/step - loss: 0.0304 - accuracy: 0.9953\n",
            "Epoch 84/300\n",
            "134/134 [==============================] - 0s 2ms/step - loss: 0.0203 - accuracy: 0.9957\n",
            "Epoch 85/300\n",
            "134/134 [==============================] - 0s 3ms/step - loss: 0.0189 - accuracy: 0.9931\n",
            "Epoch 86/300\n",
            "134/134 [==============================] - 0s 3ms/step - loss: 0.0054 - accuracy: 0.9983\n",
            "Epoch 87/300\n",
            "134/134 [==============================] - 0s 2ms/step - loss: 0.0013 - accuracy: 0.9996\n",
            "Epoch 88/300\n",
            "134/134 [==============================] - 0s 3ms/step - loss: 0.0050 - accuracy: 0.9990\n",
            "Epoch 89/300\n",
            "134/134 [==============================] - 0s 3ms/step - loss: 0.0056 - accuracy: 0.9991\n",
            "Epoch 90/300\n",
            "134/134 [==============================] - 0s 3ms/step - loss: 0.0079 - accuracy: 0.9984\n",
            "Epoch 91/300\n",
            "134/134 [==============================] - 0s 3ms/step - loss: 0.0373 - accuracy: 0.9908\n",
            "Epoch 92/300\n",
            "134/134 [==============================] - 0s 3ms/step - loss: 0.0074 - accuracy: 0.9982\n",
            "Epoch 93/300\n",
            "134/134 [==============================] - 0s 3ms/step - loss: 0.0029 - accuracy: 0.9989\n",
            "Epoch 94/300\n",
            "134/134 [==============================] - 0s 3ms/step - loss: 0.0064 - accuracy: 0.9979\n",
            "Epoch 95/300\n",
            "134/134 [==============================] - 0s 3ms/step - loss: 0.0016 - accuracy: 0.9991\n",
            "Epoch 96/300\n",
            "134/134 [==============================] - 0s 3ms/step - loss: 0.0033 - accuracy: 0.9985\n",
            "Epoch 97/300\n",
            "134/134 [==============================] - 0s 3ms/step - loss: 3.8968e-04 - accuracy: 1.0000\n",
            "Epoch 98/300\n",
            "134/134 [==============================] - 0s 3ms/step - loss: 0.0017 - accuracy: 0.9997\n",
            "Epoch 99/300\n",
            "134/134 [==============================] - 0s 3ms/step - loss: 0.0246 - accuracy: 0.9957\n",
            "Epoch 100/300\n",
            "134/134 [==============================] - 0s 3ms/step - loss: 0.0191 - accuracy: 0.9938\n",
            "Epoch 101/300\n",
            "134/134 [==============================] - 0s 3ms/step - loss: 0.0346 - accuracy: 0.9919\n",
            "Epoch 102/300\n",
            "134/134 [==============================] - 0s 3ms/step - loss: 0.0150 - accuracy: 0.9955\n",
            "Epoch 103/300\n",
            "134/134 [==============================] - 0s 3ms/step - loss: 0.0098 - accuracy: 0.9966\n",
            "Epoch 104/300\n",
            "134/134 [==============================] - 0s 3ms/step - loss: 0.0046 - accuracy: 0.9982\n",
            "Epoch 105/300\n",
            "134/134 [==============================] - 0s 3ms/step - loss: 0.0046 - accuracy: 0.9986\n",
            "Epoch 106/300\n",
            "134/134 [==============================] - 0s 3ms/step - loss: 0.0056 - accuracy: 0.9984\n",
            "Epoch 107/300\n",
            "134/134 [==============================] - 0s 3ms/step - loss: 0.0251 - accuracy: 0.9946\n",
            "Epoch 108/300\n",
            "134/134 [==============================] - 0s 3ms/step - loss: 0.0215 - accuracy: 0.9952\n",
            "Epoch 109/300\n",
            "134/134 [==============================] - 0s 2ms/step - loss: 0.0033 - accuracy: 0.9991\n",
            "Epoch 110/300\n",
            "134/134 [==============================] - 0s 3ms/step - loss: 2.6485e-04 - accuracy: 0.9999\n",
            "Epoch 111/300\n",
            "134/134 [==============================] - 0s 3ms/step - loss: 1.3710e-05 - accuracy: 1.0000\n",
            "Epoch 112/300\n",
            "134/134 [==============================] - 0s 3ms/step - loss: 3.0343e-06 - accuracy: 1.0000\n",
            "Epoch 113/300\n",
            "134/134 [==============================] - 0s 3ms/step - loss: 2.1037e-06 - accuracy: 1.0000\n",
            "Epoch 114/300\n",
            "134/134 [==============================] - 0s 3ms/step - loss: 1.4814e-06 - accuracy: 1.0000\n",
            "Epoch 115/300\n",
            "134/134 [==============================] - 0s 3ms/step - loss: 8.6077e-07 - accuracy: 1.0000\n",
            "Epoch 116/300\n",
            "134/134 [==============================] - 0s 3ms/step - loss: 7.0418e-07 - accuracy: 1.0000\n",
            "Epoch 117/300\n",
            "134/134 [==============================] - 0s 3ms/step - loss: 3.5607e-07 - accuracy: 1.0000\n",
            "Epoch 118/300\n",
            "134/134 [==============================] - 0s 3ms/step - loss: 5.4114e-07 - accuracy: 1.0000\n",
            "Epoch 119/300\n",
            "134/134 [==============================] - 0s 3ms/step - loss: 2.4576e-07 - accuracy: 1.0000\n",
            "Epoch 120/300\n",
            "134/134 [==============================] - 0s 3ms/step - loss: 4.2210e-07 - accuracy: 1.0000\n",
            "Epoch 121/300\n",
            "134/134 [==============================] - 0s 3ms/step - loss: 1.9868e-07 - accuracy: 1.0000\n",
            "Epoch 122/300\n",
            "134/134 [==============================] - 0s 3ms/step - loss: 1.3583e-07 - accuracy: 1.0000\n",
            "Epoch 123/300\n",
            "134/134 [==============================] - 0s 3ms/step - loss: 1.9619e-07 - accuracy: 1.0000\n",
            "Epoch 124/300\n",
            "134/134 [==============================] - 0s 3ms/step - loss: 1.3467e-07 - accuracy: 1.0000\n",
            "Epoch 125/300\n",
            "134/134 [==============================] - 0s 3ms/step - loss: 8.5165e-08 - accuracy: 1.0000\n",
            "Epoch 126/300\n",
            "134/134 [==============================] - 0s 3ms/step - loss: 1.1918e-07 - accuracy: 1.0000\n",
            "Epoch 127/300\n",
            "134/134 [==============================] - 0s 3ms/step - loss: 9.4586e-08 - accuracy: 1.0000\n",
            "Epoch 128/300\n",
            "134/134 [==============================] - 0s 3ms/step - loss: 9.2117e-08 - accuracy: 1.0000\n",
            "Epoch 129/300\n",
            "134/134 [==============================] - 0s 3ms/step - loss: 8.8932e-08 - accuracy: 1.0000\n",
            "Epoch 130/300\n",
            "134/134 [==============================] - 0s 3ms/step - loss: 6.3453e-08 - accuracy: 1.0000\n",
            "Epoch 131/300\n",
            "134/134 [==============================] - 0s 3ms/step - loss: 8.4170e-08 - accuracy: 1.0000\n",
            "Epoch 132/300\n",
            "134/134 [==============================] - 0s 3ms/step - loss: 4.1897e-08 - accuracy: 1.0000\n",
            "Epoch 133/300\n",
            "134/134 [==============================] - 0s 3ms/step - loss: 6.5206e-08 - accuracy: 1.0000\n",
            "Epoch 134/300\n",
            "134/134 [==============================] - 0s 3ms/step - loss: 4.3244e-08 - accuracy: 1.0000\n",
            "Epoch 135/300\n",
            "134/134 [==============================] - 0s 3ms/step - loss: 3.5660e-08 - accuracy: 1.0000\n",
            "Epoch 136/300\n",
            "134/134 [==============================] - 0s 3ms/step - loss: 4.7365e-08 - accuracy: 1.0000\n",
            "Epoch 137/300\n",
            "134/134 [==============================] - 0s 3ms/step - loss: 5.1410e-08 - accuracy: 1.0000\n",
            "Epoch 138/300\n",
            "134/134 [==============================] - 0s 3ms/step - loss: 2.3221e-08 - accuracy: 1.0000\n",
            "Epoch 139/300\n",
            "134/134 [==============================] - 0s 3ms/step - loss: 2.8846e-08 - accuracy: 1.0000\n",
            "Epoch 140/300\n",
            "134/134 [==============================] - 0s 3ms/step - loss: 2.3051e-08 - accuracy: 1.0000\n",
            "Epoch 141/300\n",
            "134/134 [==============================] - 0s 3ms/step - loss: 2.2916e-08 - accuracy: 1.0000\n",
            "Epoch 142/300\n",
            "134/134 [==============================] - 0s 3ms/step - loss: 1.9233e-08 - accuracy: 1.0000\n",
            "Epoch 143/300\n",
            "134/134 [==============================] - 0s 3ms/step - loss: 1.8441e-08 - accuracy: 1.0000\n",
            "Epoch 144/300\n",
            "134/134 [==============================] - 0s 3ms/step - loss: 1.8369e-08 - accuracy: 1.0000\n",
            "Epoch 145/300\n",
            "134/134 [==============================] - 0s 3ms/step - loss: 1.2376e-08 - accuracy: 1.0000\n",
            "Epoch 146/300\n",
            "134/134 [==============================] - 0s 3ms/step - loss: 2.5100e-08 - accuracy: 1.0000\n",
            "Epoch 147/300\n",
            "134/134 [==============================] - 0s 3ms/step - loss: 1.1340e-08 - accuracy: 1.0000\n",
            "Epoch 148/300\n",
            "134/134 [==============================] - 0s 3ms/step - loss: 9.0310e-09 - accuracy: 1.0000\n",
            "Epoch 149/300\n",
            "134/134 [==============================] - 0s 3ms/step - loss: 1.3520e-08 - accuracy: 1.0000\n",
            "Epoch 150/300\n",
            "134/134 [==============================] - 0s 3ms/step - loss: 1.6368e-08 - accuracy: 1.0000\n",
            "Epoch 151/300\n",
            "134/134 [==============================] - 0s 3ms/step - loss: 1.7654e-08 - accuracy: 1.0000\n",
            "Epoch 152/300\n",
            "134/134 [==============================] - 0s 3ms/step - loss: 7.3055e-09 - accuracy: 1.0000\n",
            "Epoch 153/300\n",
            "134/134 [==============================] - 0s 3ms/step - loss: 9.3947e-09 - accuracy: 1.0000\n",
            "Epoch 154/300\n",
            "134/134 [==============================] - 0s 3ms/step - loss: 6.6341e-09 - accuracy: 1.0000\n",
            "Epoch 155/300\n",
            "134/134 [==============================] - 0s 3ms/step - loss: 9.2343e-09 - accuracy: 1.0000\n",
            "Epoch 156/300\n",
            "134/134 [==============================] - 0s 3ms/step - loss: 6.0400e-09 - accuracy: 1.0000\n",
            "Epoch 157/300\n",
            "134/134 [==============================] - 0s 3ms/step - loss: 5.1033e-09 - accuracy: 1.0000\n",
            "Epoch 158/300\n",
            "134/134 [==============================] - 0s 3ms/step - loss: 8.1772e-09 - accuracy: 1.0000\n",
            "Epoch 159/300\n",
            "134/134 [==============================] - 0s 3ms/step - loss: 5.3512e-09 - accuracy: 1.0000\n",
            "Epoch 160/300\n",
            "134/134 [==============================] - 0s 3ms/step - loss: 6.0625e-09 - accuracy: 1.0000\n",
            "Epoch 161/300\n",
            "134/134 [==============================] - 0s 3ms/step - loss: 5.5728e-09 - accuracy: 1.0000\n",
            "Epoch 162/300\n",
            "134/134 [==============================] - 0s 3ms/step - loss: 6.2703e-09 - accuracy: 1.0000\n",
            "Epoch 163/300\n",
            "134/134 [==============================] - 0s 3ms/step - loss: 3.6825e-09 - accuracy: 1.0000\n",
            "Epoch 164/300\n",
            "134/134 [==============================] - 0s 3ms/step - loss: 4.5967e-09 - accuracy: 1.0000\n",
            "Epoch 165/300\n",
            "134/134 [==============================] - 0s 3ms/step - loss: 4.5858e-09 - accuracy: 1.0000\n",
            "Epoch 166/300\n",
            "134/134 [==============================] - 0s 3ms/step - loss: 3.0775e-09 - accuracy: 1.0000\n",
            "Epoch 167/300\n",
            "134/134 [==============================] - 0s 3ms/step - loss: 2.4197e-09 - accuracy: 1.0000\n",
            "Epoch 168/300\n",
            "134/134 [==============================] - 0s 3ms/step - loss: 5.2470e-09 - accuracy: 1.0000\n",
            "Epoch 169/300\n",
            "134/134 [==============================] - 0s 3ms/step - loss: 3.2912e-09 - accuracy: 1.0000\n",
            "Epoch 170/300\n",
            "134/134 [==============================] - 0s 3ms/step - loss: 3.3801e-09 - accuracy: 1.0000\n",
            "Epoch 171/300\n",
            "134/134 [==============================] - 0s 3ms/step - loss: 3.3003e-09 - accuracy: 1.0000\n",
            "Epoch 172/300\n",
            "134/134 [==============================] - 0s 3ms/step - loss: 1.8584e-09 - accuracy: 1.0000\n",
            "Epoch 173/300\n",
            "134/134 [==============================] - 0s 3ms/step - loss: 3.5492e-09 - accuracy: 1.0000\n",
            "Epoch 174/300\n",
            "134/134 [==============================] - 0s 3ms/step - loss: 2.0533e-09 - accuracy: 1.0000\n",
            "Epoch 175/300\n",
            "134/134 [==============================] - 0s 3ms/step - loss: 1.9747e-09 - accuracy: 1.0000\n",
            "Epoch 176/300\n",
            "134/134 [==============================] - 0s 3ms/step - loss: 2.5967e-09 - accuracy: 1.0000\n",
            "Epoch 177/300\n",
            "134/134 [==============================] - 0s 3ms/step - loss: 1.7237e-09 - accuracy: 1.0000\n",
            "Epoch 178/300\n",
            "134/134 [==============================] - 0s 3ms/step - loss: 1.9239e-09 - accuracy: 1.0000\n",
            "Epoch 179/300\n",
            "134/134 [==============================] - 0s 3ms/step - loss: 1.8349e-09 - accuracy: 1.0000\n",
            "Epoch 180/300\n",
            "134/134 [==============================] - 0s 3ms/step - loss: 1.1870e-09 - accuracy: 1.0000\n",
            "Epoch 181/300\n",
            "134/134 [==============================] - 0s 3ms/step - loss: 1.6583e-09 - accuracy: 1.0000\n",
            "Epoch 182/300\n",
            "134/134 [==============================] - 0s 3ms/step - loss: 1.8885e-09 - accuracy: 1.0000\n",
            "Epoch 183/300\n",
            "134/134 [==============================] - 0s 3ms/step - loss: 1.5196e-09 - accuracy: 1.0000\n",
            "Epoch 184/300\n",
            "134/134 [==============================] - 0s 3ms/step - loss: 1.1130e-09 - accuracy: 1.0000\n",
            "Epoch 185/300\n",
            "134/134 [==============================] - 0s 3ms/step - loss: 1.0014e-09 - accuracy: 1.0000\n",
            "Epoch 186/300\n",
            "134/134 [==============================] - 0s 3ms/step - loss: 1.5292e-09 - accuracy: 1.0000\n",
            "Epoch 187/300\n",
            "134/134 [==============================] - 0s 3ms/step - loss: 1.1306e-09 - accuracy: 1.0000\n",
            "Epoch 188/300\n",
            "134/134 [==============================] - 0s 3ms/step - loss: 1.1107e-09 - accuracy: 1.0000\n",
            "Epoch 189/300\n",
            "134/134 [==============================] - 0s 3ms/step - loss: 1.1663e-09 - accuracy: 1.0000\n",
            "Epoch 190/300\n",
            "134/134 [==============================] - 0s 3ms/step - loss: 1.3284e-09 - accuracy: 1.0000\n",
            "Epoch 191/300\n",
            "134/134 [==============================] - 0s 3ms/step - loss: 1.2489e-09 - accuracy: 1.0000\n",
            "Epoch 192/300\n",
            "134/134 [==============================] - 0s 3ms/step - loss: 8.5879e-10 - accuracy: 1.0000\n",
            "Epoch 193/300\n",
            "134/134 [==============================] - 0s 3ms/step - loss: 1.0237e-09 - accuracy: 1.0000\n",
            "Epoch 194/300\n",
            "134/134 [==============================] - 0s 3ms/step - loss: 8.8645e-10 - accuracy: 1.0000\n",
            "Epoch 195/300\n",
            "134/134 [==============================] - 0s 3ms/step - loss: 6.2639e-10 - accuracy: 1.0000\n",
            "Epoch 196/300\n",
            "134/134 [==============================] - 0s 3ms/step - loss: 7.1839e-10 - accuracy: 1.0000\n",
            "Epoch 197/300\n",
            "134/134 [==============================] - 0s 3ms/step - loss: 6.9271e-10 - accuracy: 1.0000\n",
            "Epoch 198/300\n",
            "134/134 [==============================] - 0s 3ms/step - loss: 7.6560e-10 - accuracy: 1.0000\n",
            "Epoch 199/300\n",
            "134/134 [==============================] - 0s 3ms/step - loss: 7.4134e-10 - accuracy: 1.0000\n",
            "Epoch 200/300\n",
            "134/134 [==============================] - 0s 3ms/step - loss: 4.8621e-10 - accuracy: 1.0000\n",
            "Epoch 201/300\n",
            "134/134 [==============================] - 0s 3ms/step - loss: 4.8135e-10 - accuracy: 1.0000\n",
            "Epoch 202/300\n",
            "134/134 [==============================] - 0s 3ms/step - loss: 5.9422e-10 - accuracy: 1.0000\n",
            "Epoch 203/300\n",
            "134/134 [==============================] - 0s 3ms/step - loss: 4.4619e-10 - accuracy: 1.0000\n",
            "Epoch 204/300\n",
            "134/134 [==============================] - 0s 3ms/step - loss: 4.5945e-10 - accuracy: 1.0000\n",
            "Epoch 205/300\n",
            "134/134 [==============================] - 0s 3ms/step - loss: 4.7007e-10 - accuracy: 1.0000\n",
            "Epoch 206/300\n",
            "134/134 [==============================] - 0s 3ms/step - loss: 4.9461e-10 - accuracy: 1.0000\n",
            "Epoch 207/300\n",
            "134/134 [==============================] - 0s 3ms/step - loss: 4.4778e-10 - accuracy: 1.0000\n",
            "Epoch 208/300\n",
            "134/134 [==============================] - 0s 3ms/step - loss: 4.1187e-10 - accuracy: 1.0000\n",
            "Epoch 209/300\n",
            "134/134 [==============================] - 0s 3ms/step - loss: 4.3916e-10 - accuracy: 1.0000\n",
            "Epoch 210/300\n",
            "134/134 [==============================] - 0s 3ms/step - loss: 5.1076e-10 - accuracy: 1.0000\n",
            "Epoch 211/300\n",
            "134/134 [==============================] - 0s 3ms/step - loss: 5.7422e-10 - accuracy: 1.0000\n",
            "Epoch 212/300\n",
            "134/134 [==============================] - 0s 3ms/step - loss: 4.6404e-10 - accuracy: 1.0000\n",
            "Epoch 213/300\n",
            "134/134 [==============================] - 0s 3ms/step - loss: 4.2847e-10 - accuracy: 1.0000\n",
            "Epoch 214/300\n",
            "134/134 [==============================] - 0s 3ms/step - loss: 5.4053e-10 - accuracy: 1.0000\n",
            "Epoch 215/300\n",
            "134/134 [==============================] - 0s 3ms/step - loss: 5.6014e-10 - accuracy: 1.0000\n",
            "Epoch 216/300\n",
            "134/134 [==============================] - 0s 3ms/step - loss: 4.9862e-10 - accuracy: 1.0000\n",
            "Epoch 217/300\n",
            "134/134 [==============================] - 0s 3ms/step - loss: 3.8064e-10 - accuracy: 1.0000\n",
            "Epoch 218/300\n",
            "134/134 [==============================] - 0s 3ms/step - loss: 4.0065e-10 - accuracy: 1.0000\n",
            "Epoch 219/300\n",
            "134/134 [==============================] - 0s 3ms/step - loss: 5.1853e-10 - accuracy: 1.0000\n",
            "Epoch 220/300\n",
            "134/134 [==============================] - 0s 3ms/step - loss: 4.5584e-10 - accuracy: 1.0000\n",
            "Epoch 221/300\n",
            "134/134 [==============================] - 0s 3ms/step - loss: 4.3242e-10 - accuracy: 1.0000\n",
            "Epoch 222/300\n",
            "134/134 [==============================] - 0s 3ms/step - loss: 4.5621e-10 - accuracy: 1.0000\n",
            "Epoch 223/300\n",
            "134/134 [==============================] - 0s 3ms/step - loss: 4.8981e-10 - accuracy: 1.0000\n",
            "Epoch 224/300\n",
            "134/134 [==============================] - 0s 3ms/step - loss: 4.6358e-10 - accuracy: 1.0000\n",
            "Epoch 225/300\n",
            "134/134 [==============================] - 0s 3ms/step - loss: 3.9681e-10 - accuracy: 1.0000\n",
            "Epoch 226/300\n",
            "134/134 [==============================] - 0s 3ms/step - loss: 4.5299e-10 - accuracy: 1.0000\n",
            "Epoch 227/300\n",
            "134/134 [==============================] - 0s 3ms/step - loss: 5.1577e-10 - accuracy: 1.0000\n",
            "Epoch 228/300\n",
            "134/134 [==============================] - 0s 3ms/step - loss: 4.1838e-10 - accuracy: 1.0000\n",
            "Epoch 229/300\n",
            "134/134 [==============================] - 0s 3ms/step - loss: 4.2452e-10 - accuracy: 1.0000\n",
            "Epoch 230/300\n",
            "134/134 [==============================] - 0s 3ms/step - loss: 4.2012e-10 - accuracy: 1.0000\n",
            "Epoch 231/300\n",
            "134/134 [==============================] - 0s 3ms/step - loss: 4.2696e-10 - accuracy: 1.0000\n",
            "Epoch 232/300\n",
            "134/134 [==============================] - 0s 3ms/step - loss: 3.4908e-10 - accuracy: 1.0000\n",
            "Epoch 233/300\n",
            "134/134 [==============================] - 0s 3ms/step - loss: 4.4549e-10 - accuracy: 1.0000\n",
            "Epoch 234/300\n",
            "134/134 [==============================] - 0s 3ms/step - loss: 4.7161e-10 - accuracy: 1.0000\n",
            "Epoch 235/300\n",
            "134/134 [==============================] - 0s 3ms/step - loss: 3.8303e-10 - accuracy: 1.0000\n",
            "Epoch 236/300\n",
            "134/134 [==============================] - 0s 3ms/step - loss: 4.7443e-10 - accuracy: 1.0000\n",
            "Epoch 237/300\n",
            "134/134 [==============================] - 0s 3ms/step - loss: 3.4536e-10 - accuracy: 1.0000\n",
            "Epoch 238/300\n",
            "134/134 [==============================] - 0s 3ms/step - loss: 3.6282e-10 - accuracy: 1.0000\n",
            "Epoch 239/300\n",
            "134/134 [==============================] - 0s 3ms/step - loss: 3.7002e-10 - accuracy: 1.0000\n",
            "Epoch 240/300\n",
            "134/134 [==============================] - 0s 3ms/step - loss: 3.9648e-10 - accuracy: 1.0000\n",
            "Epoch 241/300\n",
            "134/134 [==============================] - 0s 3ms/step - loss: 4.1001e-10 - accuracy: 1.0000\n",
            "Epoch 242/300\n",
            "134/134 [==============================] - 0s 3ms/step - loss: 3.8483e-10 - accuracy: 1.0000\n",
            "Epoch 243/300\n",
            "134/134 [==============================] - 0s 3ms/step - loss: 3.9317e-10 - accuracy: 1.0000\n",
            "Epoch 244/300\n",
            "134/134 [==============================] - 0s 3ms/step - loss: 4.2203e-10 - accuracy: 1.0000\n",
            "Epoch 245/300\n",
            "134/134 [==============================] - 0s 3ms/step - loss: 4.3189e-10 - accuracy: 1.0000\n",
            "Epoch 246/300\n",
            "134/134 [==============================] - 0s 3ms/step - loss: 3.7980e-10 - accuracy: 1.0000\n",
            "Epoch 247/300\n",
            "134/134 [==============================] - 0s 3ms/step - loss: 3.2895e-10 - accuracy: 1.0000\n",
            "Epoch 248/300\n",
            "134/134 [==============================] - 0s 3ms/step - loss: 4.1735e-10 - accuracy: 1.0000\n",
            "Epoch 249/300\n",
            "134/134 [==============================] - 0s 3ms/step - loss: 3.4633e-10 - accuracy: 1.0000\n",
            "Epoch 250/300\n",
            "134/134 [==============================] - 0s 3ms/step - loss: 4.3718e-10 - accuracy: 1.0000\n",
            "Epoch 251/300\n",
            "134/134 [==============================] - 0s 3ms/step - loss: 3.4908e-10 - accuracy: 1.0000\n",
            "Epoch 252/300\n",
            "134/134 [==============================] - 0s 3ms/step - loss: 3.8581e-10 - accuracy: 1.0000\n",
            "Epoch 253/300\n",
            "134/134 [==============================] - 0s 3ms/step - loss: 3.6084e-10 - accuracy: 1.0000\n",
            "Epoch 254/300\n",
            "134/134 [==============================] - 0s 3ms/step - loss: 3.9715e-10 - accuracy: 1.0000\n",
            "Epoch 255/300\n",
            "134/134 [==============================] - 0s 3ms/step - loss: 3.1061e-10 - accuracy: 1.0000\n",
            "Epoch 256/300\n",
            "134/134 [==============================] - 0s 3ms/step - loss: 3.9973e-10 - accuracy: 1.0000\n",
            "Epoch 257/300\n",
            "134/134 [==============================] - 0s 3ms/step - loss: 3.5514e-10 - accuracy: 1.0000\n",
            "Epoch 258/300\n",
            "134/134 [==============================] - 0s 3ms/step - loss: 3.4724e-10 - accuracy: 1.0000\n",
            "Epoch 259/300\n",
            "134/134 [==============================] - 0s 3ms/step - loss: 3.8389e-10 - accuracy: 1.0000\n",
            "Epoch 260/300\n",
            "134/134 [==============================] - 0s 3ms/step - loss: 4.0142e-10 - accuracy: 1.0000\n",
            "Epoch 261/300\n",
            "134/134 [==============================] - 0s 3ms/step - loss: 3.7301e-10 - accuracy: 1.0000\n",
            "Epoch 262/300\n",
            "134/134 [==============================] - 0s 3ms/step - loss: 3.0032e-10 - accuracy: 1.0000\n",
            "Epoch 263/300\n",
            "134/134 [==============================] - 0s 3ms/step - loss: 3.2329e-10 - accuracy: 1.0000\n",
            "Epoch 264/300\n",
            "134/134 [==============================] - 0s 3ms/step - loss: 3.6896e-10 - accuracy: 1.0000\n",
            "Epoch 265/300\n",
            "134/134 [==============================] - 0s 3ms/step - loss: 3.0095e-10 - accuracy: 1.0000\n",
            "Epoch 266/300\n",
            "134/134 [==============================] - 0s 3ms/step - loss: 3.2532e-10 - accuracy: 1.0000\n",
            "Epoch 267/300\n",
            "134/134 [==============================] - 0s 3ms/step - loss: 3.0088e-10 - accuracy: 1.0000\n",
            "Epoch 268/300\n",
            "134/134 [==============================] - 0s 3ms/step - loss: 2.9974e-10 - accuracy: 1.0000\n",
            "Epoch 269/300\n",
            "134/134 [==============================] - 0s 3ms/step - loss: 3.0018e-10 - accuracy: 1.0000\n",
            "Epoch 270/300\n",
            "134/134 [==============================] - 0s 3ms/step - loss: 3.2368e-10 - accuracy: 1.0000\n",
            "Epoch 271/300\n",
            "134/134 [==============================] - 0s 3ms/step - loss: 2.6690e-10 - accuracy: 1.0000\n",
            "Epoch 272/300\n",
            "134/134 [==============================] - 0s 3ms/step - loss: 3.1286e-10 - accuracy: 1.0000\n",
            "Epoch 273/300\n",
            "134/134 [==============================] - 0s 3ms/step - loss: 2.7606e-10 - accuracy: 1.0000\n",
            "Epoch 274/300\n",
            "134/134 [==============================] - 0s 3ms/step - loss: 3.0529e-10 - accuracy: 1.0000\n",
            "Epoch 275/300\n",
            "134/134 [==============================] - 0s 3ms/step - loss: 3.2066e-10 - accuracy: 1.0000\n",
            "Epoch 276/300\n",
            "134/134 [==============================] - 0s 3ms/step - loss: 3.3708e-10 - accuracy: 1.0000\n",
            "Epoch 277/300\n",
            "134/134 [==============================] - 0s 3ms/step - loss: 3.1350e-10 - accuracy: 1.0000\n",
            "Epoch 278/300\n",
            "134/134 [==============================] - 0s 3ms/step - loss: 2.9858e-10 - accuracy: 1.0000\n",
            "Epoch 279/300\n",
            "134/134 [==============================] - 0s 3ms/step - loss: 3.6668e-10 - accuracy: 1.0000\n",
            "Epoch 280/300\n",
            "134/134 [==============================] - 0s 3ms/step - loss: 3.3905e-10 - accuracy: 1.0000\n",
            "Epoch 281/300\n",
            "134/134 [==============================] - 0s 3ms/step - loss: 3.0937e-10 - accuracy: 1.0000\n",
            "Epoch 282/300\n",
            "134/134 [==============================] - 0s 3ms/step - loss: 3.1402e-10 - accuracy: 1.0000\n",
            "Epoch 283/300\n",
            "134/134 [==============================] - 0s 3ms/step - loss: 2.7854e-10 - accuracy: 1.0000\n",
            "Epoch 284/300\n",
            "134/134 [==============================] - 0s 3ms/step - loss: 3.3084e-10 - accuracy: 1.0000\n",
            "Epoch 285/300\n",
            "134/134 [==============================] - 0s 3ms/step - loss: 2.6673e-10 - accuracy: 1.0000\n",
            "Epoch 286/300\n",
            "134/134 [==============================] - 0s 3ms/step - loss: 2.8256e-10 - accuracy: 1.0000\n",
            "Epoch 287/300\n",
            "134/134 [==============================] - 0s 3ms/step - loss: 3.1726e-10 - accuracy: 1.0000\n",
            "Epoch 288/300\n",
            "134/134 [==============================] - 0s 3ms/step - loss: 2.9824e-10 - accuracy: 1.0000\n",
            "Epoch 289/300\n",
            "134/134 [==============================] - 0s 3ms/step - loss: 2.4964e-10 - accuracy: 1.0000\n",
            "Epoch 290/300\n",
            "134/134 [==============================] - 0s 3ms/step - loss: 2.5429e-10 - accuracy: 1.0000\n",
            "Epoch 291/300\n",
            "134/134 [==============================] - 0s 3ms/step - loss: 3.0770e-10 - accuracy: 1.0000\n",
            "Epoch 292/300\n",
            "134/134 [==============================] - 0s 3ms/step - loss: 3.2993e-10 - accuracy: 1.0000\n",
            "Epoch 293/300\n",
            "134/134 [==============================] - 0s 3ms/step - loss: 2.9009e-10 - accuracy: 1.0000\n",
            "Epoch 294/300\n",
            "134/134 [==============================] - 0s 3ms/step - loss: 2.9549e-10 - accuracy: 1.0000\n",
            "Epoch 295/300\n",
            "134/134 [==============================] - 0s 3ms/step - loss: 2.6407e-10 - accuracy: 1.0000\n",
            "Epoch 296/300\n",
            "134/134 [==============================] - 0s 3ms/step - loss: 3.3259e-10 - accuracy: 1.0000\n",
            "Epoch 297/300\n",
            "134/134 [==============================] - 0s 3ms/step - loss: 3.1157e-10 - accuracy: 1.0000\n",
            "Epoch 298/300\n",
            "134/134 [==============================] - 0s 3ms/step - loss: 3.6634e-10 - accuracy: 1.0000\n",
            "Epoch 299/300\n",
            "134/134 [==============================] - 0s 3ms/step - loss: 2.2196e-10 - accuracy: 1.0000\n",
            "Epoch 300/300\n",
            "134/134 [==============================] - 0s 3ms/step - loss: 1.9011e-10 - accuracy: 1.0000\n"
          ],
          "name": "stdout"
        }
      ]
    },
    {
      "cell_type": "code",
      "metadata": {
        "id": "RJsvFrIRvp4j"
      },
      "source": [
        "y_pred7 = ann.predict_classes(X_test)"
      ],
      "execution_count": 1052,
      "outputs": []
    },
    {
      "cell_type": "code",
      "metadata": {
        "colab": {
          "base_uri": "https://localhost:8080/",
          "height": 283
        },
        "id": "dneCVJRUvswZ",
        "outputId": "6ace1bb9-bdbe-4705-8702-d95c7848f289"
      },
      "source": [
        "from sklearn.metrics import confusion_matrix, accuracy_score\r\n",
        "cm6 = confusion_matrix(y_test, y_pred7)\r\n",
        "sns.heatmap(cm6,annot=True)\r\n",
        "acc9=accuracy_score(y_test, y_pred7)\r\n",
        "acc9"
      ],
      "execution_count": 1053,
      "outputs": [
        {
          "output_type": "execute_result",
          "data": {
            "text/plain": [
              "0.9657360406091371"
            ]
          },
          "metadata": {
            "tags": []
          },
          "execution_count": 1053
        },
        {
          "output_type": "display_data",
          "data": {
            "image/png": "[encoded data removed]",
            "text/plain": [
              "<Figure size 432x288 with 2 Axes>"
            ]
          },
          "metadata": {
            "tags": [],
            "needs_background": "light"
          }
        }
      ]
    },
    {
      "cell_type": "code",
      "metadata": {
        "colab": {
          "base_uri": "https://localhost:8080/",
          "height": 223
        },
        "id": "jW-KM0eH3JkX",
        "outputId": "616c05d0-b631-4ce1-b843-a24b96332700"
      },
      "source": [
        "data = [a,b,c,d,e,acc9]\r\n",
        "index = ['Logistic Regression', 'KNeighborsClassifier', 'Kernel SVM', 'RandomForestClassifier', 'Naive Bayes','ANN']\r\n",
        "pd.DataFrame(data, index=index, columns=['Scores']).sort_values(ascending = False, by=['Scores'])"
      ],
      "execution_count": 1056,
      "outputs": [
        {
          "output_type": "execute_result",
          "data": {
            "text/html": [
              "<div>\n",
              "<style scoped>\n",
              "    .dataframe tbody tr th:only-of-type {\n",
              "        vertical-align: middle;\n",
              "    }\n",
              "\n",
              "    .dataframe tbody tr th {\n",
              "        vertical-align: top;\n",
              "    }\n",
              "\n",
              "    .dataframe thead th {\n",
              "        text-align: right;\n",
              "    }\n",
              "</style>\n",
              "<table border=\"1\" class=\"dataframe\">\n",
              "  <thead>\n",
              "    <tr style=\"text-align: right;\">\n",
              "      <th></th>\n",
              "      <th>Scores</th>\n",
              "    </tr>\n",
              "  </thead>\n",
              "  <tbody>\n",
              "    <tr>\n",
              "      <th>ANN</th>\n",
              "      <td>0.965736</td>\n",
              "    </tr>\n",
              "    <tr>\n",
              "      <th>Logistic Regression</th>\n",
              "      <td>0.961929</td>\n",
              "    </tr>\n",
              "    <tr>\n",
              "      <th>KNeighborsClassifier</th>\n",
              "      <td>0.955584</td>\n",
              "    </tr>\n",
              "    <tr>\n",
              "      <th>RandomForestClassifier</th>\n",
              "      <td>0.955584</td>\n",
              "    </tr>\n",
              "    <tr>\n",
              "      <th>Kernel SVM</th>\n",
              "      <td>0.954315</td>\n",
              "    </tr>\n",
              "    <tr>\n",
              "      <th>Naive Bayes</th>\n",
              "      <td>0.362944</td>\n",
              "    </tr>\n",
              "  </tbody>\n",
              "</table>\n",
              "</div>"
            ],
            "text/plain": [
              "                          Scores\n",
              "ANN                     0.965736\n",
              "Logistic Regression     0.961929\n",
              "KNeighborsClassifier    0.955584\n",
              "RandomForestClassifier  0.955584\n",
              "Kernel SVM              0.954315\n",
              "Naive Bayes             0.362944"
            ]
          },
          "metadata": {
            "tags": []
          },
          "execution_count": 1056
        }
      ]
    },
    {
      "cell_type": "code",
      "metadata": {
        "colab": {
          "base_uri": "https://localhost:8080/",
          "height": 295
        },
        "id": "vWdHAQ35DzgO",
        "outputId": "51e7ec7c-09b1-4509-b823-06b38aa860d8"
      },
      "source": [
        "plt.plot(model_history.history['accuracy'])\r\n",
        "\r\n",
        "plt.title('model accuracy')\r\n",
        "plt.ylabel('accuracy')\r\n",
        "plt.xlabel('epoch')\r\n",
        "plt.legend(['train', 'test'], loc='upper left')\r\n",
        "plt.show()"
      ],
      "execution_count": 1058,
      "outputs": [
        {
          "output_type": "display_data",
          "data": {
            "image/png": "[encoded data removed]",
            "text/plain": [
              "<Figure size 432x288 with 1 Axes>"
            ]
          },
          "metadata": {
            "tags": [],
            "needs_background": "light"
          }
        }
      ]
    }
  ]
}